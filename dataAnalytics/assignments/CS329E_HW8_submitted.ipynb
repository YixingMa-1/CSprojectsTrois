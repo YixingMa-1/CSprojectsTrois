{
  "nbformat": 4,
  "nbformat_minor": 0,
  "metadata": {
    "kernelspec": {
      "display_name": "Python 3",
      "language": "python",
      "name": "python3"
    },
    "language_info": {
      "codemirror_mode": {
        "name": "ipython",
        "version": 3
      },
      "file_extension": ".py",
      "mimetype": "text/x-python",
      "name": "python",
      "nbconvert_exporter": "python",
      "pygments_lexer": "ipython3",
      "version": "3.8.3"
    },
    "colab": {
      "name": "CS329E_HW8_submitted.ipynb",
      "provenance": [],
      "collapsed_sections": []
    }
  },
  "cells": [
    {
      "cell_type": "markdown",
      "metadata": {
        "id": "Pc0-tdC10va6"
      },
      "source": [
        "## C S 329E HW7\n",
        "\n",
        "# Ensemble Methods and Skewed Data\n",
        "\n",
        "## Your name here (and your partner's name if you are working in a pair)\n",
        "Yixing Ma\n",
        "Daniel Lam\n",
        "group 33\n",
        "\n",
        "For this week's homework we are going explore two ensemble methods:\n",
        "\n",
        "  - AdaBoost, and\n",
        "  - Random Forests\n",
        "  \n",
        "Along with applying different KPIs (key performance indicators) that are more appropriate to highly skewed data sets. \n",
        "\n",
        "The dataset contains transactions made by credit cards in September 2013 by european cardholders.\n",
        "This dataset presents transactions that occurred in two days, where we have 237 frauds out of 142,167 transactions. The dataset is highly unbalanced, the positive class (frauds) account for 0.17% of all transactions.\n",
        "\n",
        "It contains only numerical input variables which are the result of a [PCA transformation](https://en.wikipedia.org/wiki/Principal_component_analysis). Unfortunately, due to confidentiality issues, they cannot provide the original features and more background information about the data. Features V1, V2, … V28 are the principal components obtained with PCA, the only features which have not been transformed with PCA are 'Time' and 'Amount'. Feature 'Time' contains the seconds elapsed between each transaction and the first transaction in the dataset. The feature 'Amount' is the transaction Amount in Euros. Feature 'Class' is the response variable and it takes value 1 in case of fraud and 0 otherwise.\n",
        "\n",
        "At the end of this homework, I expect you to understand how to train and use ensemble classifiers, how to characterize model performance with ROC curves, and be familiar with the difference between accuracy, true positive rate, and positive predictive value. "
      ]
    },
    {
      "cell_type": "code",
      "metadata": {
        "id": "AIIG_Qv30va_"
      },
      "source": [
        "# These are the libraries you will use for this assignment, you may not import anything else\n",
        "import pandas as pd\n",
        "import numpy as np\n",
        "import matplotlib.pyplot as plt\n",
        "from sklearn.ensemble import AdaBoostClassifier\n",
        "from sklearn.ensemble import RandomForestClassifier\n",
        "from sklearn.model_selection import StratifiedKFold\n",
        "from sklearn.metrics import plot_roc_curve\n",
        "\n",
        "# This is the credit card data provided, we'll use sklearn methods to do cross validation\n",
        "# to estimate error\n",
        "df_cc = pd.read_csv('https://www.cs.utexas.edu/~chaney/cc.csv')"
      ],
      "execution_count": 1,
      "outputs": []
    },
    {
      "cell_type": "markdown",
      "metadata": {
        "id": "sV8Lw-Xc0vbA"
      },
      "source": [
        "## Q1 Parition the data for cross validation\n",
        "\n",
        "Load the data, and split the data set into $X$ (the feature dataframe, `df_X`) and $y$ (the target series `s_y`). Define our partitions.  \n",
        "\n",
        "We know this is a _super_ skewed data set, so we worry about our target class being underrepresented in a random k-fold selection. With this in mind, we use a [stratifed k-fold](https://scikit-learn.org/stable/modules/generated/sklearn.model_selection.StratifiedKFold.html), since it will preserve our class balance in our experiements. Use $k=3$, . Instantiate an instance of the `StratifiedKFold` class, and use the generator `split` to populate the following dictonaries:\n",
        "   - `d_train_df_X` : where the key is the fold number, and the value is the attribute training dataframe at that fold\n",
        "   - `d_test_df_X`  : where the key is the fold number, and the value is the attribute test dataframe at that fold\n",
        "   - `d_train_s_y`  : where the key is the fold number, and the value is the target training series at that fold\n",
        "   - `d_train_s_y`  : where the key is the fold number, and the value is the target test series at that fold"
      ]
    },
    {
      "cell_type": "code",
      "metadata": {
        "id": "3sHfNAci0vbA",
        "colab": {
          "base_uri": "https://localhost:8080/",
          "height": 224
        },
        "outputId": "c8ba7919-ef9c-4bbe-fa92-8ddac0e3d5ee"
      },
      "source": [
        "df_X = df_cc.drop(columns=['Class'])\n",
        "s_y = df_cc['Class']\n",
        "df_X.head()"
      ],
      "execution_count": 2,
      "outputs": [
        {
          "output_type": "execute_result",
          "data": {
            "text/html": [
              "<div>\n",
              "<style scoped>\n",
              "    .dataframe tbody tr th:only-of-type {\n",
              "        vertical-align: middle;\n",
              "    }\n",
              "\n",
              "    .dataframe tbody tr th {\n",
              "        vertical-align: top;\n",
              "    }\n",
              "\n",
              "    .dataframe thead th {\n",
              "        text-align: right;\n",
              "    }\n",
              "</style>\n",
              "<table border=\"1\" class=\"dataframe\">\n",
              "  <thead>\n",
              "    <tr style=\"text-align: right;\">\n",
              "      <th></th>\n",
              "      <th>Time</th>\n",
              "      <th>V1</th>\n",
              "      <th>V2</th>\n",
              "      <th>V3</th>\n",
              "      <th>V4</th>\n",
              "      <th>V5</th>\n",
              "      <th>V6</th>\n",
              "      <th>V7</th>\n",
              "      <th>V8</th>\n",
              "      <th>V9</th>\n",
              "      <th>V10</th>\n",
              "      <th>V11</th>\n",
              "      <th>V12</th>\n",
              "      <th>V13</th>\n",
              "      <th>V14</th>\n",
              "      <th>V15</th>\n",
              "      <th>V16</th>\n",
              "      <th>V17</th>\n",
              "      <th>V18</th>\n",
              "      <th>V19</th>\n",
              "      <th>V20</th>\n",
              "      <th>V21</th>\n",
              "      <th>V22</th>\n",
              "      <th>V23</th>\n",
              "      <th>V24</th>\n",
              "      <th>V25</th>\n",
              "      <th>V26</th>\n",
              "      <th>V27</th>\n",
              "      <th>V28</th>\n",
              "      <th>Amount</th>\n",
              "    </tr>\n",
              "  </thead>\n",
              "  <tbody>\n",
              "    <tr>\n",
              "      <th>0</th>\n",
              "      <td>72222.0</td>\n",
              "      <td>1.190580</td>\n",
              "      <td>-0.188208</td>\n",
              "      <td>0.323583</td>\n",
              "      <td>-0.017402</td>\n",
              "      <td>-0.758874</td>\n",
              "      <td>-1.132340</td>\n",
              "      <td>-0.021169</td>\n",
              "      <td>-0.201165</td>\n",
              "      <td>0.364626</td>\n",
              "      <td>-0.200848</td>\n",
              "      <td>-0.326533</td>\n",
              "      <td>-0.134792</td>\n",
              "      <td>-0.548154</td>\n",
              "      <td>0.366426</td>\n",
              "      <td>1.236691</td>\n",
              "      <td>0.322176</td>\n",
              "      <td>-0.274107</td>\n",
              "      <td>-0.408767</td>\n",
              "      <td>0.058785</td>\n",
              "      <td>-0.000226</td>\n",
              "      <td>-0.103901</td>\n",
              "      <td>-0.442050</td>\n",
              "      <td>0.024706</td>\n",
              "      <td>0.438578</td>\n",
              "      <td>0.164461</td>\n",
              "      <td>0.930956</td>\n",
              "      <td>-0.096429</td>\n",
              "      <td>0.012989</td>\n",
              "      <td>57.00</td>\n",
              "    </tr>\n",
              "    <tr>\n",
              "      <th>1</th>\n",
              "      <td>65707.0</td>\n",
              "      <td>1.282559</td>\n",
              "      <td>0.270023</td>\n",
              "      <td>0.134166</td>\n",
              "      <td>0.618716</td>\n",
              "      <td>-0.291346</td>\n",
              "      <td>-0.893310</td>\n",
              "      <td>0.005146</td>\n",
              "      <td>-0.119655</td>\n",
              "      <td>0.219620</td>\n",
              "      <td>-0.250229</td>\n",
              "      <td>-0.570597</td>\n",
              "      <td>-0.454065</td>\n",
              "      <td>-0.783670</td>\n",
              "      <td>-0.095856</td>\n",
              "      <td>1.237788</td>\n",
              "      <td>0.633575</td>\n",
              "      <td>-0.074729</td>\n",
              "      <td>-0.050494</td>\n",
              "      <td>-0.055363</td>\n",
              "      <td>-0.139638</td>\n",
              "      <td>-0.324119</td>\n",
              "      <td>-0.983490</td>\n",
              "      <td>0.098567</td>\n",
              "      <td>-0.044337</td>\n",
              "      <td>0.228126</td>\n",
              "      <td>0.120401</td>\n",
              "      <td>-0.030385</td>\n",
              "      <td>0.024717</td>\n",
              "      <td>0.89</td>\n",
              "    </tr>\n",
              "    <tr>\n",
              "      <th>2</th>\n",
              "      <td>47048.0</td>\n",
              "      <td>-0.777343</td>\n",
              "      <td>0.081844</td>\n",
              "      <td>1.910231</td>\n",
              "      <td>1.194221</td>\n",
              "      <td>1.018604</td>\n",
              "      <td>0.438980</td>\n",
              "      <td>0.183102</td>\n",
              "      <td>0.017511</td>\n",
              "      <td>-0.193956</td>\n",
              "      <td>-0.113724</td>\n",
              "      <td>-1.065628</td>\n",
              "      <td>0.071294</td>\n",
              "      <td>0.805047</td>\n",
              "      <td>-0.414963</td>\n",
              "      <td>1.000568</td>\n",
              "      <td>-0.615389</td>\n",
              "      <td>-0.070159</td>\n",
              "      <td>-0.081410</td>\n",
              "      <td>0.802250</td>\n",
              "      <td>0.408923</td>\n",
              "      <td>0.072843</td>\n",
              "      <td>0.361164</td>\n",
              "      <td>-0.159239</td>\n",
              "      <td>-0.743651</td>\n",
              "      <td>0.092543</td>\n",
              "      <td>-0.165719</td>\n",
              "      <td>-0.022370</td>\n",
              "      <td>-0.093903</td>\n",
              "      <td>40.00</td>\n",
              "    </tr>\n",
              "    <tr>\n",
              "      <th>3</th>\n",
              "      <td>127379.0</td>\n",
              "      <td>-0.887548</td>\n",
              "      <td>1.417217</td>\n",
              "      <td>0.753405</td>\n",
              "      <td>2.257167</td>\n",
              "      <td>1.392043</td>\n",
              "      <td>0.680374</td>\n",
              "      <td>0.531104</td>\n",
              "      <td>0.609270</td>\n",
              "      <td>-1.725432</td>\n",
              "      <td>0.171688</td>\n",
              "      <td>-2.098903</td>\n",
              "      <td>0.012050</td>\n",
              "      <td>0.933386</td>\n",
              "      <td>0.043490</td>\n",
              "      <td>-1.665975</td>\n",
              "      <td>1.420907</td>\n",
              "      <td>-1.168533</td>\n",
              "      <td>-0.678544</td>\n",
              "      <td>-1.753987</td>\n",
              "      <td>-0.220606</td>\n",
              "      <td>-0.345603</td>\n",
              "      <td>-1.323231</td>\n",
              "      <td>0.219222</td>\n",
              "      <td>-0.080944</td>\n",
              "      <td>-0.791587</td>\n",
              "      <td>-0.773272</td>\n",
              "      <td>0.040113</td>\n",
              "      <td>0.099547</td>\n",
              "      <td>9.08</td>\n",
              "    </tr>\n",
              "    <tr>\n",
              "      <th>4</th>\n",
              "      <td>151137.0</td>\n",
              "      <td>1.819262</td>\n",
              "      <td>-0.445540</td>\n",
              "      <td>-0.186929</td>\n",
              "      <td>1.268411</td>\n",
              "      <td>-0.483948</td>\n",
              "      <td>0.164878</td>\n",
              "      <td>-0.572012</td>\n",
              "      <td>0.022557</td>\n",
              "      <td>1.071776</td>\n",
              "      <td>0.080959</td>\n",
              "      <td>-1.495187</td>\n",
              "      <td>0.655539</td>\n",
              "      <td>1.289259</td>\n",
              "      <td>-0.446869</td>\n",
              "      <td>0.594820</td>\n",
              "      <td>0.747682</td>\n",
              "      <td>-1.097668</td>\n",
              "      <td>0.398488</td>\n",
              "      <td>-0.419079</td>\n",
              "      <td>0.010713</td>\n",
              "      <td>0.065024</td>\n",
              "      <td>0.222817</td>\n",
              "      <td>0.099592</td>\n",
              "      <td>-0.728832</td>\n",
              "      <td>-0.236169</td>\n",
              "      <td>-0.722497</td>\n",
              "      <td>0.068185</td>\n",
              "      <td>-0.010816</td>\n",
              "      <td>90.00</td>\n",
              "    </tr>\n",
              "  </tbody>\n",
              "</table>\n",
              "</div>"
            ],
            "text/plain": [
              "       Time        V1        V2        V3  ...       V26       V27       V28  Amount\n",
              "0   72222.0  1.190580 -0.188208  0.323583  ...  0.930956 -0.096429  0.012989   57.00\n",
              "1   65707.0  1.282559  0.270023  0.134166  ...  0.120401 -0.030385  0.024717    0.89\n",
              "2   47048.0 -0.777343  0.081844  1.910231  ... -0.165719 -0.022370 -0.093903   40.00\n",
              "3  127379.0 -0.887548  1.417217  0.753405  ... -0.773272  0.040113  0.099547    9.08\n",
              "4  151137.0  1.819262 -0.445540 -0.186929  ... -0.722497  0.068185 -0.010816   90.00\n",
              "\n",
              "[5 rows x 30 columns]"
            ]
          },
          "metadata": {},
          "execution_count": 2
        }
      ]
    },
    {
      "cell_type": "code",
      "metadata": {
        "id": "p8K4LLES0vbB"
      },
      "source": [
        "skf = StratifiedKFold(n_splits=3,shuffle=True,random_state=23)"
      ],
      "execution_count": 3,
      "outputs": []
    },
    {
      "cell_type": "code",
      "metadata": {
        "id": "xQYF1qLc0vbB"
      },
      "source": [
        "d_train_df_X = dict()\n",
        "d_test_df_X = dict()\n",
        "d_train_s_y = dict()\n",
        "d_test_s_y = dict()\n",
        "\n",
        "fold = 1\n",
        "for train_index, test_index in skf.split(df_X, s_y):\n",
        "  d_train_df_X[fold] = df_X.iloc[train_index]\n",
        "  d_test_df_X[fold] = df_X.iloc[test_index]\n",
        "  d_train_s_y[fold] = s_y.iloc[train_index]\n",
        "  d_test_s_y[fold] = s_y.iloc[test_index]\n",
        "  fold += 1\n",
        "  # print(df_X.iloc[train_index])\n",
        "  # d_train_df_X[train_index] = df_X.iloc[train_index]\n",
        "  # d_test_df_X[test_index] = df_X.iloc[test_index]"
      ],
      "execution_count": 4,
      "outputs": []
    },
    {
      "cell_type": "code",
      "metadata": {
        "scrolled": true,
        "id": "WKyVrDi30vbC",
        "colab": {
          "base_uri": "https://localhost:8080/"
        },
        "outputId": "7eb629b0-ad84-4245-af89-95a6b449e829"
      },
      "source": [
        "# Look at the test data and verify that the target training is equally distributed as possible\n",
        "for key in d_test_s_y.keys():\n",
        "    print(d_test_s_y[key].value_counts())\n"
      ],
      "execution_count": 5,
      "outputs": [
        {
          "output_type": "stream",
          "name": "stdout",
          "text": [
            "0    47389\n",
            "1       79\n",
            "Name: Class, dtype: int64\n",
            "0    47389\n",
            "1       79\n",
            "Name: Class, dtype: int64\n",
            "0    47389\n",
            "1       79\n",
            "Name: Class, dtype: int64\n"
          ]
        }
      ]
    },
    {
      "cell_type": "markdown",
      "metadata": {
        "id": "RgKTCPZn0vbC"
      },
      "source": [
        "## Section 1 - AdaBoost"
      ]
    },
    {
      "cell_type": "markdown",
      "metadata": {
        "id": "aBiszvo40vbD"
      },
      "source": [
        "# Q2 Test the Performance of AdaBoost\n",
        "\n",
        "When we talked about AdaBoost in class, we used a collection of \"Decision Stumps\". In this assignment, we will use the implementation of [AdaBoost in Scikit-learn](https://scikit-learn.org/stable/modules/generated/sklearn.ensemble.AdaBoostClassifier.html).  As you browse the documentation, you will notice that the default base esimator in this implentation is a `DecisionTreeClassifier(max_depth=1)` (our friend the decision stump). \n",
        "\n",
        "After you fit an AdaBoost model, you can call the method `predict` to get a class prediction, or you can call `predict_proba` to get the probability of being in the class `0` or the class `1`. These probabilities are used when creating ROC curves. \n",
        "\n",
        "Loop over the $k$ folds using the dictionaries from the first problem, and for each fold calculate the accuracy, TPR, the PPV, and the FPR (feel free to create helper functions to calcuate these metrics - do not use a library function to compute these metrics).  Plot the ROC curve for each fold. You may use the [plot roc curve](https://scikit-learn.org/stable/modules/generated/sklearn.metrics.plot_roc_curve.html) from Scikit-learn.  There is a great example in the documentation [on plotting ROC curves in cross validation](https://scikit-learn.org/stable/auto_examples/model_selection/plot_roc_crossval.html) that is helpful.  \n",
        "\n",
        "When creating your AdaBoost classifier, please use the following parameters: \n",
        "`AdaBoostClassifier(n_estimators=25, random_state=23)`\n",
        "\n",
        "Save the predictions from the 3rd fold into a variable called `y_hat_ab` for use in a future problem.\n"
      ]
    },
    {
      "cell_type": "code",
      "metadata": {
        "id": "1CH_Ec9G0vbD"
      },
      "source": [
        "k = 3\n",
        "acc_ab = np.zeros(k)\n",
        "tpr_ab = np.zeros(k)\n",
        "ppv_ab = np.zeros(k)\n",
        "fpr_ab = np.zeros(k)"
      ],
      "execution_count": 6,
      "outputs": []
    },
    {
      "cell_type": "code",
      "metadata": {
        "id": "3pE-HrIv0vbE",
        "colab": {
          "base_uri": "https://localhost:8080/",
          "height": 295
        },
        "outputId": "f531d18b-3197-4397-c4ca-9733b6469e6f"
      },
      "source": [
        "# your code here\n",
        "\n",
        "tprs = []\n",
        "aucs = []\n",
        "mean_fpr = np.linspace(0, 1, 100)\n",
        "fig, ax = plt.subplots()\n",
        "clf = AdaBoostClassifier(n_estimators = 25, random_state = 23)\n",
        "\n",
        "for i in range(k):\n",
        "    clf = clf.fit(d_train_df_X[i+1], d_train_s_y[i+1])\n",
        "    \n",
        "    acc_ab[i] = clf.score(d_test_df_X[i+1], d_test_s_y[i+1])\n",
        "    \n",
        "    predictions = clf.predict(d_test_df_X[i+1])\n",
        "    \n",
        "    fraud_index = d_test_s_y[i+1] == 1\n",
        "    p = fraud_index.sum()\n",
        "    tp = (predictions[fraud_index] == d_test_s_y[i+1][fraud_index]).sum()\n",
        "    TPR = tp/p\n",
        "    tpr_ab[i] = TPR\n",
        "    \n",
        "    pred_index = predictions == 1\n",
        "    tp_p_fp = pred_index.sum()\n",
        "    PPV = tp/tp_p_fp\n",
        "    ppv_ab[i] = PPV\n",
        "    \n",
        "    fp = tp_p_fp - tp\n",
        "    non_fraud_index = d_test_s_y[i+1] == 6\n",
        "    n = non_fraud_index.sum()\n",
        "    if n == 0:\n",
        "        FPR = 0\n",
        "    else:\n",
        "        FPR = fp/n\n",
        "    fpr_ab[i] = FPR\n",
        "    \n",
        "    visualize = plot_roc_curve(clf, d_test_df_X[i+1], d_test_s_y[i+1], name=\"ROC fold {}\".format(i+1),\n",
        "                              alpha = 0.3, lw=1, ax=ax)\n",
        "    tpr_inter = np.interp(mean_fpr, visualize.fpr, visualize.tpr)\n",
        "    tpr_inter[0] = 0.0\n",
        "    tprs.append(tpr_inter)\n",
        "    aucs.append(visualize.roc_auc)\n",
        "    \n",
        "    if (i+1) == k:\n",
        "        y_hat_ab = predictions\n",
        "        \n",
        "ax.set(xlim=[-0.05, 1.05], ylim = [-0.05, 1.05], title = \"ROC Curve for Folds\")\n",
        "ax.legend(loc = \"lower right\")\n",
        "plt.show()\n",
        "\n"
      ],
      "execution_count": 7,
      "outputs": [
        {
          "output_type": "display_data",
          "data": {
            "image/png": "[encoded data removed]",
            "text/plain": [
              "<Figure size 432x288 with 1 Axes>"
            ]
          },
          "metadata": {
            "needs_background": "light"
          }
        }
      ]
    },
    {
      "cell_type": "code",
      "metadata": {
        "id": "TbQKtc_K0vbE",
        "colab": {
          "base_uri": "https://localhost:8080/"
        },
        "outputId": "d53d1e30-dd75-4201-c8ce-18802f247bd3"
      },
      "source": [
        "print('The min, mean, and max TPR are: {:.2f}, {:.2f}, and {:.2f}'.format(tpr_ab.min(), tpr_ab.mean(), tpr_ab.max()))\n",
        "print('The min, mean, and max PPV are: {:.2f}, {:.2f}, and {:.2f}'.format(ppv_ab.min(), ppv_ab.mean(), ppv_ab.max()))\n",
        "print('The min, mean, and max ACC are: {:.2f}, {:.2f}, and {:.2f}'.format(acc_ab.min(), acc_ab.mean(), acc_ab.max()))"
      ],
      "execution_count": 8,
      "outputs": [
        {
          "output_type": "stream",
          "name": "stdout",
          "text": [
            "The min, mean, and max TPR are: 0.62, 0.65, and 0.71\n",
            "The min, mean, and max PPV are: 0.75, 0.79, and 0.82\n",
            "The min, mean, and max ACC are: 1.00, 1.00, and 1.00\n"
          ]
        }
      ]
    },
    {
      "cell_type": "markdown",
      "metadata": {
        "id": "6B3UIBCC0vbE"
      },
      "source": [
        "## Q3 Test the Performance of Random Forests\n",
        "\n",
        "Now, let's try another ensemble method: Random Forests, again using the [Scikit-learn implementation](https://scikit-learn.org/stable/modules/generated/sklearn.ensemble.RandomForestClassifier.html). \n",
        "\n",
        "Following our book, we will build complete trees, with no pruning.  That means every leaf in the tree will be completelely pure, and if you exam an individual Decision Tree it would be overtrained to our training set.  While building the decision trees, at every internal node, we select $p$ attributes at random, and then find the best split that minimizes impurtity.  The value, $p$, is a hyperparamter of the Random Forest and corresponds to the `max_features` parameter in the Random Forest Class. \n",
        "\n",
        "After you fit an RandomForest model, you can call the method `predict` to get a class prediction, or you can call `predict_proba` to get the probability of being in the class `0` or the class `1`. These probabilities are used when creating ROC curves. \n",
        "\n",
        "Loop over the $k$ folds using the dictionaries from the first problem, and for each fold calculate the accuracy, TPR, the PPV, and the FPR (feel free to reuse the functions that you already wrote to calculate these values - do not use a library function to compute these metrics).  Plot the ROC curve for each fold. You may use the [plot roc curve](https://scikit-learn.org/stable/modules/generated/sklearn.metrics.plot_roc_curve.html) from Scikit-learn. There is a great example in the documentation [on plotting ROC curves in cross validation](https://scikit-learn.org/stable/auto_examples/model_selection/plot_roc_crossval.html) that is helpful.  \n",
        "\n",
        "When creating your Random Forest classifier, please use the following parameters: \n",
        "`RandomForestClassifier(criterion=\"entropy\", max_features=\"sqrt\", random_state=23)`\n",
        "\n",
        "Save the predictions from the 3rd fold into a variable called `y_hat_rf` for use in a future problem."
      ]
    },
    {
      "cell_type": "code",
      "metadata": {
        "id": "knZax5_10vbE"
      },
      "source": [
        "k = 3\n",
        "acc_rf = np.zeros(k)\n",
        "tpr_rf = np.zeros(k)\n",
        "ppv_rf = np.zeros(k)\n",
        "fpr_rf = np.zeros(k)"
      ],
      "execution_count": 9,
      "outputs": []
    },
    {
      "cell_type": "code",
      "metadata": {
        "id": "SL-uXnC10vbF",
        "colab": {
          "base_uri": "https://localhost:8080/",
          "height": 295
        },
        "outputId": "a9db9e9e-4f6e-42e1-9208-0f2095eb59ac"
      },
      "source": [
        "# your code here\n",
        "\n",
        "tprs = []\n",
        "aucs = []\n",
        "mean_fpr = np.linspace(0, 1, 100)\n",
        "fig, ax = plt.subplots()\n",
        "clf = RandomForestClassifier(criterion=\"entropy\", max_features=\"sqrt\", random_state=23)\n",
        "\n",
        "\n",
        "for i in range(k):\n",
        "    clf = clf.fit(d_train_df_X[i+1], d_train_s_y[i+1])\n",
        "    \n",
        "    acc_rf[i] = clf.score(d_test_df_X[i+1], d_test_s_y[i+1])\n",
        "    \n",
        "    predictions = clf.predict(d_test_df_X[i+1])\n",
        "    \n",
        "    fraud_index = d_test_s_y[i+1] == 1\n",
        "    p = fraud_index.sum()\n",
        "    tp = (predictions[fraud_index] == d_test_s_y[i+1][fraud_index]).sum()\n",
        "    TPR = tp/p\n",
        "    tpr_rf[i] = TPR\n",
        "    \n",
        "    pred_index = predictions == 1\n",
        "    tp_p_fp = pred_index.sum()\n",
        "    PPV = tp/tp_p_fp\n",
        "    ppv_rf[i] = PPV\n",
        "    \n",
        "    fp = tp_p_fp - tp\n",
        "    non_fraud_index = d_test_s_y[i+1] == 6\n",
        "    n = non_fraud_index.sum()\n",
        "    if n == 0:\n",
        "        FPR = 0\n",
        "    else:\n",
        "        FPR = fp/n\n",
        "    fpr_rf[i] = FPR\n",
        "    \n",
        "    visualize = plot_roc_curve(clf, d_test_df_X[i+1], d_test_s_y[i+1], name=\"ROC fold {}\".format(i+1),\n",
        "                              alpha = 0.3, lw=1, ax=ax)\n",
        "    tpr_inter = np.interp(mean_fpr, visualize.fpr, visualize.tpr)\n",
        "    tpr_inter[0] = 0.0\n",
        "    tprs.append(tpr_inter)\n",
        "    aucs.append(visualize.roc_auc)\n",
        "    \n",
        "    if (i+1) == k:\n",
        "        y_hat_rf = predictions\n",
        "        \n",
        "ax.set(xlim=[-0.05, 1.05], ylim = [-0.05, 1.05], title = \"ROC Curve for Folds\")\n",
        "ax.legend(loc = \"lower right\")\n",
        "plt.show()\n",
        "\n",
        "\n",
        "\n",
        "\n"
      ],
      "execution_count": 10,
      "outputs": [
        {
          "output_type": "display_data",
          "data": {
            "image/png": "[encoded data removed]",
            "text/plain": [
              "<Figure size 432x288 with 1 Axes>"
            ]
          },
          "metadata": {
            "needs_background": "light"
          }
        }
      ]
    },
    {
      "cell_type": "code",
      "metadata": {
        "id": "d5Drp2A20vbF",
        "colab": {
          "base_uri": "https://localhost:8080/"
        },
        "outputId": "3eeebfb8-4332-4583-8e05-60c5002b3622"
      },
      "source": [
        "print('The min, mean, and max TPR are: {:.2f}, {:.2f}, and {:.2f}'.format(tpr_rf.min(), tpr_rf.mean(), tpr_rf.max()))\n",
        "print('The min, mean, and max PPV are: {:.2f}, {:.2f}, and {:.2f}'.format(ppv_rf.min(), ppv_rf.mean(), ppv_rf.max()))\n",
        "print('The min, mean, and max ACC are: {:.2f}, {:.2f}, and {:.2f}'.format(acc_rf.min(), acc_rf.mean(), acc_rf.max()))"
      ],
      "execution_count": 11,
      "outputs": [
        {
          "output_type": "stream",
          "name": "stdout",
          "text": [
            "The min, mean, and max TPR are: 0.75, 0.78, and 0.80\n",
            "The min, mean, and max PPV are: 0.92, 0.93, and 0.95\n",
            "The min, mean, and max ACC are: 1.00, 1.00, and 1.00\n"
          ]
        }
      ]
    },
    {
      "cell_type": "markdown",
      "metadata": {
        "id": "1XU70_Mf0vbF"
      },
      "source": [
        "# Q4 Calculate the Cost of Fraud \n",
        "\n",
        "In the above problems, we saved the predictions of the 3rd fold into the variables `y_hat_ab` and `y_hat_rf` for the AdaBoost and RandomForest models respectively. \n",
        "\n",
        "Now, Mr. Bank Man wants you to tell him how much money he is going to save if he deploys either of these fraud algorithms to the real-time payment processing system.  Assume that there is not a currently deployed fraud detection algorithm.  \n",
        "\n",
        "For every fraudulent transaction that is not predicted as fraudulent the bank looses twice the value of the transaction.  So, if a fradulent charge for €10 is undectected, it costs the bank €20.  Also, if a charge is predicted as fradulent, but wasn't, it costs the bank a flat fee of €3 in customer service support to communicate with the customer, and mark the possible fraud as a normal transaction. \n",
        "\n",
        "Using the 3rd fold test sample, calculate how much money Mr Bank Man will save by deploying each algorithm, and make a recommendation of which algorithm to deploy to production.  To calculate savings to the bank, you must first calculate the cost of the status quo, which is having no algorithm deployed. "
      ]
    },
    {
      "cell_type": "code",
      "metadata": {
        "id": "i5hYCvdK0vbF",
        "colab": {
          "base_uri": "https://localhost:8080/"
        },
        "outputId": "2413f16a-db94-4b6f-b3b8-192bcb48bdaa"
      },
      "source": [
        "sumv = 0\n",
        "for i in d_test_s_y[3].items():\n",
        "    if i[1] == 1:\n",
        "        sumv += (d_test_df_X[3][\"Amount\"][i[0]]) * 2\n",
        "print(\"Cost of None: € {:.2f}\".format(sumv))"
      ],
      "execution_count": 12,
      "outputs": [
        {
          "output_type": "stream",
          "name": "stdout",
          "text": [
            "Cost of None: € 22484.74\n"
          ]
        }
      ]
    },
    {
      "cell_type": "code",
      "metadata": {
        "colab": {
          "base_uri": "https://localhost:8080/"
        },
        "id": "-ytVIqofs1ye",
        "outputId": "852a1e53-87c6-43a1-8342-8ca7ff98d58a"
      },
      "source": [
        "costAB, base, amt = 0,[],[]\n",
        "for i in d_test_s_y[3]:\n",
        "    base.append(i)\n",
        "for i in d_test_df_X[3][\"Amount\"]:\n",
        "    amt.append(i)\n",
        "for i in range(len(y_hat_ab)):\n",
        "    if y_hat_ab[i] == 0 and base[i] == 1:\n",
        "      costAB += amt[i] * 2\n",
        "    if y_hat_ab[i] == 1 and base[i] == 0:\n",
        "        costAB += 3       \n",
        "print(costAB)     "
      ],
      "execution_count": 13,
      "outputs": [
        {
          "output_type": "stream",
          "name": "stdout",
          "text": [
            "8538.32\n"
          ]
        }
      ]
    },
    {
      "cell_type": "code",
      "metadata": {
        "colab": {
          "base_uri": "https://localhost:8080/"
        },
        "id": "T1XHDiTbKltH",
        "outputId": "265cc501-5a25-4df0-ddd3-e72fce121a1e"
      },
      "source": [
        "costRF = 0\n",
        "for i in range(len(y_hat_rf)):\n",
        "    if y_hat_rf[i] == 0 and base[i] == 1:\n",
        "        costRF += amt[i] * 2\n",
        "    if y_hat_rf[i] == 1 and base[i] == 0:\n",
        "            costRF += 3            \n",
        "print(costRF)\n"
      ],
      "execution_count": 14,
      "outputs": [
        {
          "output_type": "stream",
          "name": "stdout",
          "text": [
            "4363.38\n"
          ]
        }
      ]
    },
    {
      "cell_type": "markdown",
      "metadata": {
        "id": "6x_Zz5Hs0vbF"
      },
      "source": [
        "➡️ YOUR ANSWER HERE Mr Bank man will save money, if we deploy the algorithm! YOUR ANSWER HERE ⬅️\n",
        "\n",
        "Mr Bank man will save money, if we deploy the random forest algorithm!"
      ]
    }
  ]
}