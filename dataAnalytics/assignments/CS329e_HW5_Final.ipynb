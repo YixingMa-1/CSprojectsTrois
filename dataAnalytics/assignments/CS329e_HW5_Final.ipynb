{
  "nbformat": 4,
  "nbformat_minor": 0,
  "metadata": {
    "kernelspec": {
      "display_name": "Python 3",
      "language": "python",
      "name": "python3"
    },
    "language_info": {
      "codemirror_mode": {
        "name": "ipython",
        "version": 3
      },
      "file_extension": ".py",
      "mimetype": "text/x-python",
      "name": "python",
      "nbconvert_exporter": "python",
      "pygments_lexer": "ipython3",
      "version": "3.8.8"
    },
    "colab": {
      "name": "CS329e_HW5_Final.ipynb",
      "provenance": [],
      "collapsed_sections": []
    }
  },
  "cells": [
    {
      "cell_type": "markdown",
      "metadata": {
        "id": "JfuIVwk6VQNg"
      },
      "source": [
        "## C S 329E HW 5\n",
        "\n",
        "# Crossvalidation and hyperparameter selection\n",
        "\n",
        "## Yixing Ma, Daniel Lam.   (pair 49)\n",
        "\n",
        "For this week's homework we are going to explore the cross validation testing methodology and applying that to get error estimates on the two algorithms we've used so far:\n",
        "  - Linear Regression\n",
        "  - Decision Tree classification\n",
        "  "
      ]
    },
    {
      "cell_type": "code",
      "metadata": {
        "id": "96E_96hMVRiM",
        "colab": {
          "base_uri": "https://localhost:8080/"
        },
        "outputId": "22cf06c5-d284-4db2-91f4-39db16daa065"
      },
      "source": [
        "# Google colab's default version of scikit-learn isn't the latest, so you will \n",
        "# need to update the virtual machine and restart the runtime\n",
        "!pip install scikit-learn==1.0"
      ],
      "execution_count": 1,
      "outputs": [
        {
          "output_type": "stream",
          "name": "stdout",
          "text": [
            "Requirement already satisfied: scikit-learn==1.0 in /usr/local/lib/python3.7/dist-packages (1.0)\n",
            "Requirement already satisfied: threadpoolctl>=2.0.0 in /usr/local/lib/python3.7/dist-packages (from scikit-learn==1.0) (3.0.0)\n",
            "Requirement already satisfied: scipy>=1.1.0 in /usr/local/lib/python3.7/dist-packages (from scikit-learn==1.0) (1.4.1)\n",
            "Requirement already satisfied: numpy>=1.14.6 in /usr/local/lib/python3.7/dist-packages (from scikit-learn==1.0) (1.19.5)\n",
            "Requirement already satisfied: joblib>=0.11 in /usr/local/lib/python3.7/dist-packages (from scikit-learn==1.0) (1.0.1)\n"
          ]
        }
      ]
    },
    {
      "cell_type": "code",
      "metadata": {
        "id": "PDHKJDFmVQNi"
      },
      "source": [
        "# import the libraries! If you want to add things here for visualization, please do, \n",
        "# but only use sklearn when prompted\n",
        "\n",
        "import pandas as pd\n",
        "import numpy as np\n",
        "from sklearn import tree \n",
        "from sklearn.datasets import load_iris\n",
        "from sklearn.datasets import load_diabetes"
      ],
      "execution_count": 2,
      "outputs": []
    },
    {
      "cell_type": "markdown",
      "metadata": {
        "id": "LZs2nuNbVQNj"
      },
      "source": [
        "# Part 1 - Calculate Generalized Error on Linear Regression with k-fold Cross Validation"
      ]
    },
    {
      "cell_type": "markdown",
      "metadata": {
        "id": "-JVk1iaWVQNk"
      },
      "source": [
        "## Q1.1 Load in the diabetes data set as a pandas dataframe and series.  \n",
        "Documentation on the data set is [here](https://scikit-learn.org/stable/modules/generated/sklearn.datasets.load_diabetes.html).  Name your features dataframe (the independent variables) `df_X` and your target value (the dependent variable) series `s_y`"
      ]
    },
    {
      "cell_type": "code",
      "metadata": {
        "id": "VQVbOpO9VQNk"
      },
      "source": [
        "df_X, s_y = load_diabetes(return_X_y=True, as_frame=True)"
      ],
      "execution_count": 3,
      "outputs": []
    },
    {
      "cell_type": "markdown",
      "metadata": {
        "id": "hzgW4G5SVQNk"
      },
      "source": [
        "## Q1.2 Define a function that creates a linear least squares regression model and a function to predict a continuous value given a linear regression model\n",
        "The first function should take in two parameters, `df_X`, and `s_y` and return the least squares regression model, $\\hat{\\beta}$ (using the notation from the ESLII book chapter 3 and HW3).  You can not use any libraries outside of pandas and numpy. Note that the length of beta_hat should be the number of columns in `df_X` + 1. \n",
        "\n",
        "The second function should take in two parameters, `beta_hat` - the model generated from the `get_linear_regression` function, and `df_X` - that has the attribute values at which we want to predict a continuous value.  We assume that the format and ordering of `df_X` used to create the model and `df_X` used to generate predictions are consistent. "
      ]
    },
    {
      "cell_type": "code",
      "metadata": {
        "id": "yf37fNLUVQNl"
      },
      "source": [
        "def get_linear_regression_model( df_X, s_y ):\n",
        "    x = pd.concat([pd.DataFrame({'intercept': np.ones(len(df_X))}), df_X.reset_index(drop=True)], axis=1)\n",
        "    beta_hat, residuals, rank, s = np.linalg.lstsq(x, s_y, rcond=-1)\n",
        "    return beta_hat"
      ],
      "execution_count": 4,
      "outputs": []
    },
    {
      "cell_type": "code",
      "metadata": {
        "id": "VaM8sfLCVQNm",
        "colab": {
          "base_uri": "https://localhost:8080/"
        },
        "outputId": "1e971ec4-081d-4a68-9fc7-cb58091259a0"
      },
      "source": [
        "# code to check beta_hat\n",
        "np.random.seed(23)\n",
        "beta_hat = get_linear_regression_model( pd.DataFrame(np.random.random((34,4))), pd.Series(np.random.random(34)*10.0) )\n",
        "beta_hat"
      ],
      "execution_count": 5,
      "outputs": [
        {
          "output_type": "execute_result",
          "data": {
            "text/plain": [
              "array([ 4.18818425,  1.77890808,  0.74032569, -1.3506416 ,  0.14535984])"
            ]
          },
          "metadata": {},
          "execution_count": 5
        }
      ]
    },
    {
      "cell_type": "code",
      "metadata": {
        "id": "mPpM4U6YVQNm"
      },
      "source": [
        "def predict_linear_regression_value( beta_hat, df_X ):\n",
        "    x = pd.concat([pd.DataFrame({'intercept': np.ones(len(df_X))}), df_X.reset_index(drop=True)], axis=1)\n",
        "    beta_hat.tolist()\n",
        "    t_beta_hat = np.array([beta_hat])\n",
        "    new_beta = t_beta_hat.T\n",
        "    return np.matmul(x.values, new_beta) "
      ],
      "execution_count": 6,
      "outputs": []
    },
    {
      "cell_type": "code",
      "metadata": {
        "id": "OyMGfxtxXNCM",
        "colab": {
          "base_uri": "https://localhost:8080/"
        },
        "outputId": "5192cef5-ac3d-474a-8b26-f330acc4a220"
      },
      "source": [
        "predicted_vals = predict_linear_regression_value( beta_hat, pd.DataFrame(np.random.random((3,4))))\n",
        "predicted_vals"
      ],
      "execution_count": 7,
      "outputs": [
        {
          "output_type": "execute_result",
          "data": {
            "text/plain": [
              "array([[4.03669521],\n",
              "       [4.39502589],\n",
              "       [3.90884703]])"
            ]
          },
          "metadata": {},
          "execution_count": 7
        }
      ]
    },
    {
      "cell_type": "markdown",
      "metadata": {
        "id": "cRxs-OTiVQNn"
      },
      "source": [
        "## Q1.3 Define a function that partitions the dataframe and series data into dictionaries\n",
        "This function should take in three parameters, `df_X`, `s_y`, and `k`, and returns a tuple of two dictionaries.\n",
        "In both dictionaries the key is the `k` value (an integer from one to `k` inclusive).\n",
        "The first dictionary will have the dataframe of the training data that contains approximately $\\frac{1}{k}$ of the data (variation due to randomness is acceptable).\n",
        "The second dictionary will have the series of the target data that contains approximately $\\frac{1}{k}$ of the data (variation due to randomness is acceptable). Please note the targets _must match_ the same rows as the dataframe at this index, e.g, the length of the kth partition is the same for the dataframe and series.\n",
        "\n",
        "Call that function with $k=5$ and create the dictionaries `dict_k_df_X` and `dict_k_s_y`. Print out the number of rows in each fold.  Check that the number of data points in each partition totals the number of data points in the entire dataset. \n",
        "\n",
        "Here is some example output from checking the length of the folds:\n",
        "```\n",
        "Fold 1 length of dataframe is 88 and length of series is 88\n",
        "Fold 2 length of dataframe is 96 and length of series is 96\n",
        "Fold 3 length of dataframe is 88 and length of series is 88\n",
        "Fold 4 length of dataframe is 79 and length of series is 79\n",
        "Fold 5 length of dataframe is 91 and length of series is 91\n",
        "The sum of the number of elements in each fold is 442 and there are 442 rows in the original df\n",
        "```"
      ]
    },
    {
      "cell_type": "code",
      "metadata": {
        "id": "vKZFErNNVQNo"
      },
      "source": [
        "def partition_data( df_X, s_y, k ):\n",
        "    random = np.random.randint(low=1, high=k+1, size=len(df_X))\n",
        "    df_X_dict = dict()\n",
        "    s_y_dict = dict()\n",
        "    \n",
        "    for k_value in np.unique(random):\n",
        "        df_X_dict[k_value] = df_X[random == k_value]\n",
        "        s_y_dict[k_value] = s_y[random == k_value]\n",
        "        \n",
        "    return (df_X_dict, s_y_dict)"
      ],
      "execution_count": 8,
      "outputs": []
    },
    {
      "cell_type": "code",
      "metadata": {
        "id": "pefH5wfJVQNo"
      },
      "source": [
        "(dict_k_df_X, dict_k_s_y) = partition_data( df_X, s_y, 5 )"
      ],
      "execution_count": 9,
      "outputs": []
    },
    {
      "cell_type": "code",
      "metadata": {
        "id": "TQ27tMRFVQNp",
        "colab": {
          "base_uri": "https://localhost:8080/"
        },
        "outputId": "09d602f2-2e91-4cd1-ec54-c93431af643e"
      },
      "source": [
        "# Check fold sizes\n",
        "total = 0\n",
        "for i in range(1, 6):\n",
        "  total += len(dict_k_df_X[i])\n",
        "  print(i, len(dict_k_df_X[i]))\n",
        "\n",
        "print(total)\n",
        "print(len(df_X))\n"
      ],
      "execution_count": 10,
      "outputs": [
        {
          "output_type": "stream",
          "name": "stdout",
          "text": [
            "1 91\n",
            "2 98\n",
            "3 77\n",
            "4 75\n",
            "5 101\n",
            "442\n",
            "442\n"
          ]
        }
      ]
    },
    {
      "cell_type": "markdown",
      "metadata": {
        "id": "DtdijUdNVQNp"
      },
      "source": [
        "## Q1.4 Define a function that calculates a regression metric\n",
        "This function should accept two series of equal length $n$ numpy arrays, `s_y`, and `s_y_hat`. The metric it should calculate is the mean absolute error, $MAE = \\sum\\limits_{i=1}^n\\frac{|{s\\_y_i - {s\\_y\\_hat}_i}|}{n}$ \n",
        "\n",
        "Test your function by using the vectors:\n",
        "```\n",
        "x = np.array([1,2,3])\n",
        "y = np.array([2,2,3])\n",
        "```\n"
      ]
    },
    {
      "cell_type": "code",
      "metadata": {
        "id": "v40R9HM_VQNq"
      },
      "source": [
        "def get_mae( s_y, s_y_hat):\n",
        "    mae = np.sum(abs(s_y - s_y_hat)) / len(s_y)\n",
        "    return mae"
      ],
      "execution_count": 11,
      "outputs": []
    },
    {
      "cell_type": "code",
      "metadata": {
        "id": "jJB-KKKvVQNq",
        "colab": {
          "base_uri": "https://localhost:8080/"
        },
        "outputId": "b5568207-15cc-43b2-fd05-d4e102c58e59"
      },
      "source": [
        "# Test it \n",
        "x = np.array([1,2,3])\n",
        "y = np.array([2,2,3])\n",
        "get_mae(x,y)"
      ],
      "execution_count": 12,
      "outputs": [
        {
          "output_type": "execute_result",
          "data": {
            "text/plain": [
              "0.3333333333333333"
            ]
          },
          "metadata": {},
          "execution_count": 12
        }
      ]
    },
    {
      "cell_type": "markdown",
      "metadata": {
        "id": "3pgVtzgWVQNq"
      },
      "source": [
        "## Q1.5 Calculate the $MAE$ for each fold\n",
        "For each fold in your dictionaries, calculate the $MAE$.  Use the partition number key as the test set, and all other partitions as the train set. \n",
        "\n",
        "Print the min, max, and mean $MAE$ of your 5 folds. \n",
        "\n",
        "You must use your helper functions that you wrote above, `get_linear_regression_model`, `predict_linear_regression_value` and `get_mae`. "
      ]
    },
    {
      "cell_type": "code",
      "metadata": {
        "id": "IuxFj8z5VQNr"
      },
      "source": [
        "mae = np.array([])\n",
        "for k in dict_k_df_X.keys():\n",
        "    \n",
        "    df_X_test = dict_k_df_X[k]\n",
        "    s_y = dict_k_s_y[k]\n",
        "    x = []\n",
        "    y = []\n",
        "    for i in dict_k_df_X.keys():\n",
        "        if i != k:\n",
        "            x.append(dict_k_df_X[i])\n",
        "            y.append(dict_k_s_y[i])\n",
        "    x_train, y_train = pd.concat(x), pd.concat(y)\n",
        "\n",
        "    beta_hat = get_linear_regression_model(x_train, y_train)\n",
        "    beta_hat.tolist()\n",
        "    t_beta_hat = np.array([beta_hat])\n",
        "    new_beta = t_beta_hat.T\n",
        "    x_train_new = pd.concat([pd.DataFrame({'intercept': np.ones(len(x_train))}), x_train.reset_index(drop=True)], axis=1)\n",
        "    s_y_hat = df_X_test.apply( lambda x : np.matmul(x_train_new.values, new_beta), axis=1)\n",
        "    \n",
        "    mae = np.append( mae, get_mae(s_y,s_y_hat) )  "
      ],
      "execution_count": 13,
      "outputs": []
    },
    {
      "cell_type": "code",
      "metadata": {
        "id": "7OxejniBVQNr",
        "colab": {
          "base_uri": "https://localhost:8080/"
        },
        "outputId": "8655d55c-203b-47ed-9702-3ec7ff520dd5"
      },
      "source": [
        "print(\"min MAE:{:.2f}, max MAE:{:.2f}, mean MAE:{:.2f}\".format(mae.min(),mae.max(),mae.mean()))"
      ],
      "execution_count": 14,
      "outputs": [
        {
          "output_type": "stream",
          "name": "stdout",
          "text": [
            "min MAE:61.90, max MAE:145.04, mean MAE:77.35\n"
          ]
        }
      ]
    },
    {
      "cell_type": "markdown",
      "metadata": {
        "id": "bqOqK30FVQNr"
      },
      "source": [
        "# Part 2 - Find the best hyperparameter to use in a Decision Tree "
      ]
    },
    {
      "cell_type": "markdown",
      "metadata": {
        "id": "3xVkJfkdVQNr"
      },
      "source": [
        "## Q2.1 Load the iris data in as a pandas dataframe and a series\n",
        "Documentation on the data set is [here](https://scikit-learn.org/stable/modules/generated/sklearn.datasets.load_iris.html). Name your features dataframe (the independent variables) `df_X` and your class label (the dependent variable) series `s_y`"
      ]
    },
    {
      "cell_type": "code",
      "metadata": {
        "id": "5oBRRztuVQNr"
      },
      "source": [
        "from sklearn import datasets\n",
        "df_X, s_y = datasets.load_iris(return_X_y=True, as_frame=True)"
      ],
      "execution_count": 15,
      "outputs": []
    },
    {
      "cell_type": "markdown",
      "metadata": {
        "id": "O0OUEFGaVQNr"
      },
      "source": [
        "## Q2.2 Partition `df_X` and `s_y` into $5$ partitions of roughly equal size\n",
        "Make 2 dictionaries, with the key of each dictionary the fold number.  The value of the dictionary `dict_k_df_X` is the $k^{th}$ partition of the data, and the value of the dictionary `dict_k_s_y` is the corresponding $k^{th}$ target classification.  Print out the number of rows in each fold.  Check that the number of data points in each partition totals the number of data points in the entire dataset. \n",
        "\n",
        "Note, you can reuse the functions from Section 1. "
      ]
    },
    {
      "cell_type": "code",
      "metadata": {
        "id": "4FDi6t03VQNs"
      },
      "source": [
        "(dict_k_df_X, dict_k_s_y) = partition_data( df_X, s_y, 5 )"
      ],
      "execution_count": 16,
      "outputs": []
    },
    {
      "cell_type": "markdown",
      "metadata": {
        "id": "D3QvbgqsVQNs"
      },
      "source": [
        "## Q2.3 Define a function that calculates accuracy\n",
        "The function should accept two series and compare each element for equality.  The accuracy is the number of equal elements divided by the total number of elements.\n",
        "\n",
        "Test your accuracy function by calling it with the `s_y` loaded from the iris data set and an array of the same length containing all $1$ values. "
      ]
    },
    {
      "cell_type": "code",
      "metadata": {
        "id": "hGEZaKCRVQNs"
      },
      "source": [
        "def get_acc( s_1, s_2 ):\n",
        "    # your code here\n",
        "    acc = 0\n",
        "    for x in range(len(s_2)):\n",
        "        if s_1[x] == s_2[x]:\n",
        "            acc += 1\n",
        "    return (acc/len(s_1))\n",
        "    "
      ],
      "execution_count": 17,
      "outputs": []
    },
    {
      "cell_type": "code",
      "metadata": {
        "id": "K8WcPX7IVQNs",
        "colab": {
          "base_uri": "https://localhost:8080/"
        },
        "outputId": "4e371ce5-353d-4d2d-f9c7-362369d554ce"
      },
      "source": [
        "get_acc(s_y,np.ones(len(s_y)))"
      ],
      "execution_count": 18,
      "outputs": [
        {
          "output_type": "execute_result",
          "data": {
            "text/plain": [
              "0.3333333333333333"
            ]
          },
          "metadata": {},
          "execution_count": 18
        }
      ]
    },
    {
      "cell_type": "markdown",
      "metadata": {
        "id": "1szoVAVkVQNs"
      },
      "source": [
        "## Q2.4 Using Nested Cross validation, find the best hyperparameter\n",
        "Use the [Decision Tree Classifier](https://scikit-learn.org/stable/modules/tree.html#classification) class to build a decision tree inside of a 5-fold cross validation loop.  The partitions you already created in 2.2 will be the outer loop.  In the inside loop you should use 4-fold cross validation (so you don't have to partition _again_) to find the best value for `min_impurity_decrease`.  Use the Gini Index as your impurity measure. \n",
        "    Calculate the mean accuracy across the 4 folds of your inner loop for all the candidate `min_impurity_decrease` values, and print the value.  Use the array `np.array([0.1,0.25,0.3,0.4])` as the candidates for the best hyperparameter. If there is a tie (two `min_impurity_decrease` values give the same highest accuracy), choose the lowest `min_impurity_decrease` value. \n",
        "\n",
        "For each inner loop, select the best `min_impurity_decrease` and train the outer fold training data on using that value. \n",
        "\n",
        "For each of the 5 executions of the inner loop, your output should look something like this:\n",
        "```\n",
        "Testing 0.10 min impurity decrease\n",
        "\tAverage accuracy over 4 folds is 0.95\n",
        "Testing 0.25 min impurity decrease\n",
        "\tAverage accuracy over 4 folds is 0.86\n",
        "Testing 0.30 min impurity decrease\n",
        "\tAverage accuracy over 4 folds is 0.63\n",
        "Testing 0.40 min impurity decrease\n",
        "\tAverage accuracy over 4 folds is 0.27\n",
        "\n",
        "Best min impurity decrease is 0.1\n",
        "\n",
        "```"
      ]
    },
    {
      "cell_type": "code",
      "metadata": {
        "id": "8a7spNAnVQNs",
        "colab": {
          "base_uri": "https://localhost:8080/"
        },
        "outputId": "05d8d3ed-baac-4b0b-832c-6b38c0ac3348"
      },
      "source": [
        "possible_min_impurity_decrease = np.array([0.1,0.25,0.3,0.4])\n",
        "\n",
        "# Outer loop\n",
        "outer_acc = np.array([])\n",
        "out_low = 0\n",
        "out_upp = len(df_X) // 5\n",
        "\n",
        "accuracies = {0.1:[], 0.25:[], 0.3:[], 0.4:[]}\n",
        "for k in dict_k_df_X.keys():\n",
        "\n",
        "    # your code here\n",
        "    train_x = df_X.drop(df_X.index[out_low:out_upp])\n",
        "    train_y = s_y.drop(s_y.index[out_low:out_upp])\n",
        "    test_x = df_X[out_low:out_upp]\n",
        "    test_y = s_y[out_low:out_upp]\n",
        "    \n",
        "    out_low += len(df_X) // 5\n",
        "    out_upp += len(df_X) // 5\n",
        "    \n",
        "    in_low = 0\n",
        "    in_up = len(train_x) // 4\n",
        "    \n",
        "    for pos_min_impurity in possible_min_impurity_decrease:\n",
        "      # Inner loop cross validation code here (use 4 folds, where the fold does not include k)\n",
        "      clf = tree.DecisionTreeClassifier(criterion=\"gini\", min_impurity_decrease = pos_min_impurity)\n",
        "      clf.fit(train_x, train_y)\n",
        "        \n",
        "      pred_y = clf.predict(test_x)\n",
        "        \n",
        "      y_test_list = test_y.values.tolist()\n",
        "        \n",
        "      this_acc = get_acc(y_test_list, pred_y)\n",
        "        \n",
        "      accuracies[pos_min_impurity].append(this_acc)\n",
        "        \n",
        "        \n",
        "        \n",
        "    # Use best min impurity decrease to train model\n",
        "    \n",
        "    # outer accuracy calculation \n",
        "avg_1st = sum(accuracies[0.1])/5\n",
        "avg_2nd = sum(accuracies[0.25])/5\n",
        "avg_3rd = sum(accuracies[0.3])/5\n",
        "avg_4th = sum(accuracies[0.4])/5\n",
        "\n",
        "avg = {avg_1st:0.1, avg_2nd:0.25, avg_3rd:0.3, avg_4th:0.4}\n",
        "\n",
        "maximum = max(avg.keys())\n",
        "hyperparameter = avg[maximum]\n",
        "\n",
        "print(\"Testing 0.10 min impurity decrease\")\n",
        "print(\"    Average accuracy over 4 folds is\", avg_1st)\n",
        "print(\"Testing 0.25 min impurity decrease\")\n",
        "print(\"    Average accuracy over 4 folds is\", avg_2nd)\n",
        "print(\"Testing 0.30 min impurity decrease\")\n",
        "print(\"    Average accuracy over 4 folds is\", avg_3rd)\n",
        "print(\"Testing 0.40 min impurity decrease\")\n",
        "print(\"    Average accuracy over 4 folds is\", avg_4th)\n",
        "print()\n",
        "print(\"Best min impurity decrease is\", hyperparameter)\n",
        "\n",
        "for a in avg:\n",
        "    outer_acc = np.append(outer_acc, a)\n",
        "\n",
        "\n",
        "    # outer_acc = np.append(outer_acc,this_acc) # make sure and calculate this_acc in your loop"
      ],
      "execution_count": 19,
      "outputs": [
        {
          "output_type": "stream",
          "name": "stdout",
          "text": [
            "Testing 0.10 min impurity decrease\n",
            "    Average accuracy over 4 folds is 0.9266666666666667\n",
            "Testing 0.25 min impurity decrease\n",
            "    Average accuracy over 4 folds is 0.26\n",
            "Testing 0.30 min impurity decrease\n",
            "    Average accuracy over 4 folds is 0.06666666666666667\n",
            "Testing 0.40 min impurity decrease\n",
            "    Average accuracy over 4 folds is 0.0\n",
            "\n",
            "Best min impurity decrease is 0.1\n"
          ]
        }
      ]
    },
    {
      "cell_type": "markdown",
      "metadata": {
        "id": "L6-dgURkVQNt"
      },
      "source": [
        "## Q2.5 Show the generalized performance of the classifier \n",
        "Show the generalized performance of the classifier by printing the min, max, and mean accuracy of the outer fold test sets."
      ]
    },
    {
      "cell_type": "code",
      "metadata": {
        "id": "3wed-YLSVQNt",
        "colab": {
          "base_uri": "https://localhost:8080/"
        },
        "outputId": "eab47db0-d470-4340-cb86-8c63d71a72f0"
      },
      "source": [
        "print(\"min:\", min(outer_acc))\n",
        "print(\"max:\", max(outer_acc))\n",
        "print(\"Mean:\", np.mean(outer_acc))"
      ],
      "execution_count": 20,
      "outputs": [
        {
          "output_type": "stream",
          "name": "stdout",
          "text": [
            "min: 0.0\n",
            "max: 0.9266666666666667\n",
            "Mean: 0.31333333333333335\n"
          ]
        }
      ]
    }
  ]
}