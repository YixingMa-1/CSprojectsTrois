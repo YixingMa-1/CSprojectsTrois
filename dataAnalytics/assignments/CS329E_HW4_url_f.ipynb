{
  "nbformat": 4,
  "nbformat_minor": 0,
  "metadata": {
    "colab": {
      "name": "Copy of CS329E_HW4_url.ipynb",
      "provenance": [],
      "collapsed_sections": []
    },
    "kernelspec": {
      "display_name": "Python 3",
      "language": "python",
      "name": "python3"
    },
    "language_info": {
      "codemirror_mode": {
        "name": "ipython",
        "version": 3
      },
      "file_extension": ".py",
      "mimetype": "text/x-python",
      "name": "python",
      "nbconvert_exporter": "python",
      "pygments_lexer": "ipython3",
      "version": "3.8.8"
    }
  },
  "cells": [
    {
      "cell_type": "markdown",
      "metadata": {
        "id": "CsII0Mcormyn"
      },
      "source": [
        "### C S 329E HW 4\n",
        "\n",
        "## Pair Programming Group Number: 19\n",
        "## Members of Team: Yixing Ma, Daniel Lam\n",
        "\n",
        "## Decision Tree Classifier\n",
        "\n",
        "\n",
        "For this weeks homework we are going to explore ideas around decision tree implementation!  \n",
        "\n",
        "We will implement some helper functions that would be necessary for a home-grown tree:\n",
        "  - calc_entropy\n",
        "  - calc_gini\n",
        "  \n",
        "and them test them out at given data splits. \n",
        "  \n",
        "And finally, to perform predictive and descriptive analytics we use the [Decision Tree Classifier](https://scikit-learn.org/stable/modules/tree.html#classification) class in the scikit-learn package.\n",
        "\n",
        "  \n",
        "For this assignment, the stopping condition will be the depth of the tree. The impurity measure can be either `Entropy` or `Gini`.\n",
        "\n",
        "To test our tree built from the Decision Tree Classifier class, we will revisit our Melbourne housing data (that has been cleaned and pruned) and use the files:\n",
        "\n",
        "   - `melb_tree_train.csv` for training the decision tree (we'll also see what happens if we use the same data to test as we used to train the data in the last problem)\n",
        "   - `melb_tree_test.csv` for testing the decision tree\n",
        "\n",
        "There are 10 features in these dataframes that we can use to describe and predict the class label housing \"Type\", which is 'h' house, 'u' duplex, or 't' townhome. "
      ]
    },
    {
      "cell_type": "code",
      "metadata": {
        "id": "XW5qmE_qrmyp"
      },
      "source": [
        "# import the libraries\n",
        "import pandas as pd\n",
        "import numpy as np\n",
        "import matplotlib.pyplot as plt\n",
        "from math import log2\n",
        "from sklearn import tree # you'll probably need to install this - look at Q6 for a link \n",
        "import graphviz # you'll probably need to install this - look at Q6 for a link "
      ],
      "execution_count": 1,
      "outputs": []
    },
    {
      "cell_type": "code",
      "metadata": {
        "colab": {
          "base_uri": "https://localhost:8080/",
          "height": 204
        },
        "id": "oHRp2EZkr9S2",
        "outputId": "4bdba54d-e8b2-4907-c307-27c4a346a62f"
      },
      "source": [
        "df_train = pd.read_csv('https://gist.githubusercontent.com/yanyanzheng96/f8ba57f8377dee0810271475c728fca8/raw/afa3fa4305b55e31135980835d40b27af31f288c/melb_tree_train.csv')\n",
        "df_train.head()"
      ],
      "execution_count": 2,
      "outputs": [
        {
          "output_type": "execute_result",
          "data": {
            "text/html": [
              "<div>\n",
              "<style scoped>\n",
              "    .dataframe tbody tr th:only-of-type {\n",
              "        vertical-align: middle;\n",
              "    }\n",
              "\n",
              "    .dataframe tbody tr th {\n",
              "        vertical-align: top;\n",
              "    }\n",
              "\n",
              "    .dataframe thead th {\n",
              "        text-align: right;\n",
              "    }\n",
              "</style>\n",
              "<table border=\"1\" class=\"dataframe\">\n",
              "  <thead>\n",
              "    <tr style=\"text-align: right;\">\n",
              "      <th></th>\n",
              "      <th>Rooms</th>\n",
              "      <th>Type</th>\n",
              "      <th>Price</th>\n",
              "      <th>Distance</th>\n",
              "      <th>Bedroom2</th>\n",
              "      <th>Bathroom</th>\n",
              "      <th>Car</th>\n",
              "      <th>Landsize</th>\n",
              "      <th>BuildingArea</th>\n",
              "      <th>YearBuilt</th>\n",
              "      <th>CouncilArea</th>\n",
              "    </tr>\n",
              "  </thead>\n",
              "  <tbody>\n",
              "    <tr>\n",
              "      <th>0</th>\n",
              "      <td>2</td>\n",
              "      <td>t</td>\n",
              "      <td>771000.0</td>\n",
              "      <td>13.8</td>\n",
              "      <td>2.0</td>\n",
              "      <td>1.0</td>\n",
              "      <td>1.0</td>\n",
              "      <td>0.0</td>\n",
              "      <td>99.0</td>\n",
              "      <td>1992.0</td>\n",
              "      <td>Bayside</td>\n",
              "    </tr>\n",
              "    <tr>\n",
              "      <th>1</th>\n",
              "      <td>3</td>\n",
              "      <td>t</td>\n",
              "      <td>700000.0</td>\n",
              "      <td>7.9</td>\n",
              "      <td>3.0</td>\n",
              "      <td>2.0</td>\n",
              "      <td>1.0</td>\n",
              "      <td>189.0</td>\n",
              "      <td>110.0</td>\n",
              "      <td>1990.0</td>\n",
              "      <td>Banyule</td>\n",
              "    </tr>\n",
              "    <tr>\n",
              "      <th>2</th>\n",
              "      <td>3</td>\n",
              "      <td>u</td>\n",
              "      <td>975000.0</td>\n",
              "      <td>12.1</td>\n",
              "      <td>3.0</td>\n",
              "      <td>2.0</td>\n",
              "      <td>1.0</td>\n",
              "      <td>277.0</td>\n",
              "      <td>109.0</td>\n",
              "      <td>1975.0</td>\n",
              "      <td>Glen Eira</td>\n",
              "    </tr>\n",
              "    <tr>\n",
              "      <th>3</th>\n",
              "      <td>3</td>\n",
              "      <td>h</td>\n",
              "      <td>1290000.0</td>\n",
              "      <td>8.0</td>\n",
              "      <td>3.0</td>\n",
              "      <td>1.0</td>\n",
              "      <td>1.0</td>\n",
              "      <td>618.0</td>\n",
              "      <td>132.0</td>\n",
              "      <td>1960.0</td>\n",
              "      <td>Moonee Valley</td>\n",
              "    </tr>\n",
              "    <tr>\n",
              "      <th>4</th>\n",
              "      <td>2</td>\n",
              "      <td>u</td>\n",
              "      <td>500000.0</td>\n",
              "      <td>4.2</td>\n",
              "      <td>2.0</td>\n",
              "      <td>1.0</td>\n",
              "      <td>1.0</td>\n",
              "      <td>0.0</td>\n",
              "      <td>86.0</td>\n",
              "      <td>2000.0</td>\n",
              "      <td>Melbourne</td>\n",
              "    </tr>\n",
              "  </tbody>\n",
              "</table>\n",
              "</div>"
            ],
            "text/plain": [
              "   Rooms Type      Price  ...  BuildingArea  YearBuilt    CouncilArea\n",
              "0      2    t   771000.0  ...          99.0     1992.0        Bayside\n",
              "1      3    t   700000.0  ...         110.0     1990.0        Banyule\n",
              "2      3    u   975000.0  ...         109.0     1975.0      Glen Eira\n",
              "3      3    h  1290000.0  ...         132.0     1960.0  Moonee Valley\n",
              "4      2    u   500000.0  ...          86.0     2000.0      Melbourne\n",
              "\n",
              "[5 rows x 11 columns]"
            ]
          },
          "metadata": {},
          "execution_count": 2
        }
      ]
    },
    {
      "cell_type": "code",
      "metadata": {
        "colab": {
          "base_uri": "https://localhost:8080/",
          "height": 204
        },
        "id": "YPFbglKfsFOv",
        "outputId": "6c5cf92c-ccf1-4f0b-d024-268211e07c33"
      },
      "source": [
        "df_test = pd.read_csv('https://gist.githubusercontent.com/yanyanzheng96/ec66da011b165f0e282c0c1f8447010e/raw/d02c3829a7e9db2d156ba1ab9d5bb4d18ae57be8/melb_tree_test.csv')\n",
        "df_test.head()"
      ],
      "execution_count": 3,
      "outputs": [
        {
          "output_type": "execute_result",
          "data": {
            "text/html": [
              "<div>\n",
              "<style scoped>\n",
              "    .dataframe tbody tr th:only-of-type {\n",
              "        vertical-align: middle;\n",
              "    }\n",
              "\n",
              "    .dataframe tbody tr th {\n",
              "        vertical-align: top;\n",
              "    }\n",
              "\n",
              "    .dataframe thead th {\n",
              "        text-align: right;\n",
              "    }\n",
              "</style>\n",
              "<table border=\"1\" class=\"dataframe\">\n",
              "  <thead>\n",
              "    <tr style=\"text-align: right;\">\n",
              "      <th></th>\n",
              "      <th>Rooms</th>\n",
              "      <th>Type</th>\n",
              "      <th>Price</th>\n",
              "      <th>Distance</th>\n",
              "      <th>Bedroom2</th>\n",
              "      <th>Bathroom</th>\n",
              "      <th>Car</th>\n",
              "      <th>Landsize</th>\n",
              "      <th>BuildingArea</th>\n",
              "      <th>YearBuilt</th>\n",
              "      <th>CouncilArea</th>\n",
              "    </tr>\n",
              "  </thead>\n",
              "  <tbody>\n",
              "    <tr>\n",
              "      <th>0</th>\n",
              "      <td>2</td>\n",
              "      <td>t</td>\n",
              "      <td>930000.0</td>\n",
              "      <td>2.6</td>\n",
              "      <td>2.0</td>\n",
              "      <td>1.0</td>\n",
              "      <td>1.0</td>\n",
              "      <td>97.0</td>\n",
              "      <td>85.0</td>\n",
              "      <td>2004.0</td>\n",
              "      <td>Yarra</td>\n",
              "    </tr>\n",
              "    <tr>\n",
              "      <th>1</th>\n",
              "      <td>3</td>\n",
              "      <td>t</td>\n",
              "      <td>815000.0</td>\n",
              "      <td>11.0</td>\n",
              "      <td>3.0</td>\n",
              "      <td>2.0</td>\n",
              "      <td>2.0</td>\n",
              "      <td>159.0</td>\n",
              "      <td>130.0</td>\n",
              "      <td>2014.0</td>\n",
              "      <td>Hobsons Bay</td>\n",
              "    </tr>\n",
              "    <tr>\n",
              "      <th>2</th>\n",
              "      <td>4</td>\n",
              "      <td>h</td>\n",
              "      <td>638000.0</td>\n",
              "      <td>13.0</td>\n",
              "      <td>4.0</td>\n",
              "      <td>2.0</td>\n",
              "      <td>1.0</td>\n",
              "      <td>624.0</td>\n",
              "      <td>258.0</td>\n",
              "      <td>2005.0</td>\n",
              "      <td>Moreland</td>\n",
              "    </tr>\n",
              "    <tr>\n",
              "      <th>3</th>\n",
              "      <td>2</td>\n",
              "      <td>t</td>\n",
              "      <td>595000.0</td>\n",
              "      <td>11.2</td>\n",
              "      <td>2.0</td>\n",
              "      <td>2.0</td>\n",
              "      <td>1.0</td>\n",
              "      <td>201.0</td>\n",
              "      <td>111.0</td>\n",
              "      <td>2005.0</td>\n",
              "      <td>Moreland</td>\n",
              "    </tr>\n",
              "    <tr>\n",
              "      <th>4</th>\n",
              "      <td>3</td>\n",
              "      <td>t</td>\n",
              "      <td>620500.0</td>\n",
              "      <td>11.2</td>\n",
              "      <td>3.0</td>\n",
              "      <td>2.0</td>\n",
              "      <td>1.0</td>\n",
              "      <td>158.0</td>\n",
              "      <td>117.0</td>\n",
              "      <td>2011.0</td>\n",
              "      <td>Darebin</td>\n",
              "    </tr>\n",
              "  </tbody>\n",
              "</table>\n",
              "</div>"
            ],
            "text/plain": [
              "   Rooms Type     Price  ...  BuildingArea  YearBuilt  CouncilArea\n",
              "0      2    t  930000.0  ...          85.0     2004.0        Yarra\n",
              "1      3    t  815000.0  ...         130.0     2014.0  Hobsons Bay\n",
              "2      4    h  638000.0  ...         258.0     2005.0     Moreland\n",
              "3      2    t  595000.0  ...         111.0     2005.0     Moreland\n",
              "4      3    t  620500.0  ...         117.0     2011.0      Darebin\n",
              "\n",
              "[5 rows x 11 columns]"
            ]
          },
          "metadata": {},
          "execution_count": 3
        }
      ]
    },
    {
      "cell_type": "markdown",
      "metadata": {
        "id": "tSpic2Eurmyq"
      },
      "source": [
        "## Q1 Load the Data\n",
        "Load in the melb_tree_train.csv into a dataframe, and split that dataframe into `df_X`, which contains the features of the data set (everything but `Type`), and `s_y`, the series containing just the class label (just `Type`). The lengths of `df_X` and `s_y` should match."
      ]
    },
    {
      "cell_type": "code",
      "metadata": {
        "id": "FnNRRkhWrmyq",
        "colab": {
          "base_uri": "https://localhost:8080/"
        },
        "outputId": "065d2e72-c875-4afd-a844-9f32a65afe59"
      },
      "source": [
        "s_y = pd.Series(df_train['Type'])\n",
        "df_x = df_train.drop(columns = [\"Type\"])\n",
        "len(s_y) == len(df_x)\n",
        "s_y"
      ],
      "execution_count": 4,
      "outputs": [
        {
          "output_type": "execute_result",
          "data": {
            "text/plain": [
              "0      t\n",
              "1      t\n",
              "2      u\n",
              "3      h\n",
              "4      u\n",
              "      ..\n",
              "805    t\n",
              "806    u\n",
              "807    t\n",
              "808    t\n",
              "809    h\n",
              "Name: Type, Length: 810, dtype: object"
            ]
          },
          "metadata": {},
          "execution_count": 4
        }
      ]
    },
    {
      "cell_type": "markdown",
      "metadata": {
        "id": "OBhSoBUYrmyq"
      },
      "source": [
        "## Q2 Implement a function to calculate entropy \n",
        "Implement a function `calc_entropy` that takes the the class label series, `s_y`, as a parameter. Implement using the definition on p128 in the DM book and only use pandas and log2 libraries"
      ]
    },
    {
      "cell_type": "code",
      "metadata": {
        "id": "Yv5e5k0Lrmyr"
      },
      "source": [
        "# calc_entropy(s_y) definition\n",
        "def calc_entropy(s_y):\n",
        "  dumm = pd.get_dummies(s_y)\n",
        "  h_1 = dumm[\"h\"].value_counts()[1]\n",
        "  u_1 = dumm[\"u\"].value_counts()[1]\n",
        "  t_1 = dumm[\"t\"].value_counts()[1]\n",
        "  \n",
        "  h_perc = h_1/len(s_y)\n",
        "  u_perc = u_1/len(s_y)\n",
        "  t_perc = t_1/len(s_y)\n",
        "\n",
        "  entropy = - h_perc * log2(h_perc) - u_perc * log2(u_perc) - t_perc * log2(t_perc)\n",
        "\n",
        "\n",
        "\n",
        "  return entropy\n",
        "  \n",
        "\n",
        "  \n",
        "\n"
      ],
      "execution_count": 5,
      "outputs": []
    },
    {
      "cell_type": "markdown",
      "metadata": {
        "id": "MLp2bn0Xrmyr"
      },
      "source": [
        "## Q3 Use the entropy function to\n",
        "  - (a) Calculate the entropy of the entire training set\n",
        "  - (b) Calculate the entropy of the three partitions formed from the following three intervals:\n",
        "\n",
        "(i) Landsize $\\in [0,200]$\n",
        "\n",
        "(ii) Landsize $\\in (200,450]$\n",
        "\n",
        "(iii) Landsize $\\in (450, \\infty)$"
      ]
    },
    {
      "cell_type": "code",
      "metadata": {
        "id": "VXttKnTirmyr",
        "colab": {
          "base_uri": "https://localhost:8080/"
        },
        "outputId": "8ce4218e-a3f3-4d6b-fa81-e348c17a6197"
      },
      "source": [
        "# The entire data set\n",
        "calc_entropy(s_y)"
      ],
      "execution_count": 6,
      "outputs": [
        {
          "output_type": "execute_result",
          "data": {
            "text/plain": [
              "1.5825333114261775"
            ]
          },
          "metadata": {},
          "execution_count": 6
        }
      ]
    },
    {
      "cell_type": "code",
      "metadata": {
        "id": "qEm2Nbuxrmys",
        "colab": {
          "base_uri": "https://localhost:8080/"
        },
        "outputId": "a0743daa-eb08-4a51-fc2d-0914d4f02436"
      },
      "source": [
        "# Less than or equal to 200\n",
        "\n",
        "s_landsize_lt200 = df_train[df_train['Landsize'] <= 200]\n",
        "calc_entropy(s_landsize_lt200['Type'])\n"
      ],
      "execution_count": 7,
      "outputs": [
        {
          "output_type": "execute_result",
          "data": {
            "text/plain": [
              "1.3456432116206725"
            ]
          },
          "metadata": {},
          "execution_count": 7
        }
      ]
    },
    {
      "cell_type": "code",
      "metadata": {
        "id": "grNiOkRgrmys",
        "colab": {
          "base_uri": "https://localhost:8080/"
        },
        "outputId": "c66600f5-9a96-42a3-f582-9f2ea1b10560"
      },
      "source": [
        "# Between 200 and 450\n",
        "s_landsize_mt200 = df_train[df_train['Landsize'] > 200]\n",
        "s_landsize_lt450 = s_landsize_mt200[s_landsize_mt200['Landsize'] <= 450]\n",
        "calc_entropy(s_landsize_lt450['Type'])\n"
      ],
      "execution_count": 8,
      "outputs": [
        {
          "output_type": "execute_result",
          "data": {
            "text/plain": [
              "1.4660501816027978"
            ]
          },
          "metadata": {},
          "execution_count": 8
        }
      ]
    },
    {
      "cell_type": "code",
      "metadata": {
        "id": "hRHOSY7Brmys",
        "colab": {
          "base_uri": "https://localhost:8080/"
        },
        "outputId": "1f27a07d-d229-43b7-d86f-1e1bb9415313"
      },
      "source": [
        "# greater than 450\n",
        "\n",
        "s_landsize_gt450 = df_train[df_train['Landsize'] > 450]\n",
        "calc_entropy(s_landsize_gt450['Type'])\n"
      ],
      "execution_count": 9,
      "outputs": [
        {
          "output_type": "execute_result",
          "data": {
            "text/plain": [
              "1.09954792005911"
            ]
          },
          "metadata": {},
          "execution_count": 9
        }
      ]
    },
    {
      "cell_type": "markdown",
      "metadata": {
        "id": "3STCrFxqrmys"
      },
      "source": [
        "## Q4 Implement a function to calculate the Gini Index\n",
        "Implement the function `calc_gini` that takes the class label series, `s_y`, as a parameter. Implement using the definition on p128 in the DM book and only use the pandas library."
      ]
    },
    {
      "cell_type": "code",
      "metadata": {
        "id": "9HWZHo9_rmyt"
      },
      "source": [
        "def calc_gini( s_y ):\n",
        "  dumm = pd.get_dummies(s_y)\n",
        "  h_1 = dumm[\"h\"].value_counts()[1]\n",
        "  u_1 = dumm[\"u\"].value_counts()[1]\n",
        "  t_1 = dumm[\"t\"].value_counts()[1]\n",
        "  \n",
        "  h_perc = h_1/len(s_y)\n",
        "  u_perc = u_1/len(s_y)\n",
        "  t_perc = t_1/len(s_y)\n",
        "\n",
        "  gini = 1 - h_perc**2  - u_perc**2  - t_perc **2\n",
        "  return gini\n",
        "\n",
        "\n",
        "  "
      ],
      "execution_count": 10,
      "outputs": []
    },
    {
      "cell_type": "markdown",
      "metadata": {
        "id": "4oxrseZZrmyt"
      },
      "source": [
        "## Q5 Use the Gini Index function to\n",
        "  - (a) Calculate the Gini index of the entire training set\n",
        "  - (b) Calculate the Gini index of the three partitions formed from the following three intervals:\n",
        "\n",
        "(i) Landsize $\\in [0,200]$\n",
        "\n",
        "(ii) Landsize $\\in (200,450]$\n",
        "\n",
        "(iii) Landsize $\\in (450, \\infty)$"
      ]
    },
    {
      "cell_type": "code",
      "metadata": {
        "id": "hSc2RRtHrmyt",
        "colab": {
          "base_uri": "https://localhost:8080/"
        },
        "outputId": "314b485f-66ec-4093-e93b-f79ae2ce0ee8"
      },
      "source": [
        "# The entire data set\n",
        "calc_gini(s_y)"
      ],
      "execution_count": 11,
      "outputs": [
        {
          "output_type": "execute_result",
          "data": {
            "text/plain": [
              "0.6655601280292637"
            ]
          },
          "metadata": {},
          "execution_count": 11
        }
      ]
    },
    {
      "cell_type": "code",
      "metadata": {
        "id": "M0fGwiMurmyt",
        "colab": {
          "base_uri": "https://localhost:8080/"
        },
        "outputId": "6e648dce-0d02-4ab8-9580-97ee05c361b5"
      },
      "source": [
        "# Less than or equal to 200\n",
        "s_landsize_lt200 = df_train[df_train['Landsize'] <= 200]\n",
        "calc_gini(s_landsize_lt200['Type'])\n"
      ],
      "execution_count": 12,
      "outputs": [
        {
          "output_type": "execute_result",
          "data": {
            "text/plain": [
              "0.5741211482422965"
            ]
          },
          "metadata": {},
          "execution_count": 12
        }
      ]
    },
    {
      "cell_type": "code",
      "metadata": {
        "id": "Fik-UAdErmyu",
        "colab": {
          "base_uri": "https://localhost:8080/"
        },
        "outputId": "bc8cc128-39bf-467d-821f-0170d0c2ca4d"
      },
      "source": [
        "# Between 200 and 450\n",
        "s_landsize_mt200 = df_train[df_train['Landsize'] > 200]\n",
        "s_landsize_lt450 = s_landsize_mt200[s_landsize_mt200['Landsize'] <= 450]\n",
        "calc_gini(s_landsize_lt450['Type'])\n"
      ],
      "execution_count": 13,
      "outputs": [
        {
          "output_type": "execute_result",
          "data": {
            "text/plain": [
              "0.6101021682602731"
            ]
          },
          "metadata": {},
          "execution_count": 13
        }
      ]
    },
    {
      "cell_type": "code",
      "metadata": {
        "id": "wFRETURErmyu",
        "colab": {
          "base_uri": "https://localhost:8080/"
        },
        "outputId": "7ef3b5b7-81d9-4d5d-b9b5-dc8289bf6d0c"
      },
      "source": [
        "# greater than 450\n",
        "s_landsize_gt450 = df_train[df_train['Landsize'] > 450]\n",
        "calc_gini(s_landsize_gt450['Type'])\n"
      ],
      "execution_count": 14,
      "outputs": [
        {
          "output_type": "execute_result",
          "data": {
            "text/plain": [
              "0.4381934171597633"
            ]
          },
          "metadata": {},
          "execution_count": 14
        }
      ]
    },
    {
      "cell_type": "markdown",
      "metadata": {
        "id": "-nM6TlZvrmyu"
      },
      "source": [
        "## Q6 Create a decision tree \n",
        "Using [scikit-learn](https://scikit-learn.org/stable/modules/tree.html#tree) create a multi class classifer for the data set using the Entropy impurity measure and a max depth of 3.\n",
        "\n",
        "Note that scikit-learn's algorithm doesn't handle categorical data, so that needs to be preprocessed using an one hot encoding.\n",
        "\n",
        "Display the tree using `export_text` from sklearn.tree, and use that information to write some descriptive analytics on the classification of houses.  For extra fun, use the export_graphviz to draw the graph (see documentation on the [scikit-learn webpage](https://scikit-learn.org/stable/modules/tree.html#classification)). "
      ]
    },
    {
      "cell_type": "code",
      "metadata": {
        "id": "IT9oxFhUrmyu"
      },
      "source": [
        "# Create Tree\n",
        "pd.get_dummies(df_x['CouncilArea'])\n",
        "df_one_hot = pd.get_dummies(df_x[\"CouncilArea\"])\n",
        "df_all = pd.concat([df_x, df_one_hot], axis=1)\n",
        "df_all = df_all.drop(columns = ['CouncilArea'])\n",
        "\n"
      ],
      "execution_count": 15,
      "outputs": []
    },
    {
      "cell_type": "code",
      "metadata": {
        "id": "ZeXj95cSrmyv",
        "colab": {
          "base_uri": "https://localhost:8080/"
        },
        "outputId": "558ce287-1760-4842-8daa-1994b1bf7f45"
      },
      "source": [
        "# Display text version of the tree\n",
        "clf = tree.DecisionTreeClassifier(criterion='entropy', max_depth=3)\n",
        "clf = clf.fit(df_all, s_y)\n",
        "pr = tree.export_text(clf)\n",
        "print(pr)\n"
      ],
      "execution_count": 16,
      "outputs": [
        {
          "output_type": "stream",
          "name": "stdout",
          "text": [
            "|--- feature_8 <= 1977.50\n",
            "|   |--- feature_0 <= 2.50\n",
            "|   |   |--- feature_1 <= 915000.00\n",
            "|   |   |   |--- class: u\n",
            "|   |   |--- feature_1 >  915000.00\n",
            "|   |   |   |--- class: h\n",
            "|   |--- feature_0 >  2.50\n",
            "|   |   |--- feature_6 <= 429.00\n",
            "|   |   |   |--- class: h\n",
            "|   |   |--- feature_6 >  429.00\n",
            "|   |   |   |--- class: h\n",
            "|--- feature_8 >  1977.50\n",
            "|   |--- feature_7 <= 104.31\n",
            "|   |   |--- feature_6 <= 76.00\n",
            "|   |   |   |--- class: u\n",
            "|   |   |--- feature_6 >  76.00\n",
            "|   |   |   |--- class: t\n",
            "|   |--- feature_7 >  104.31\n",
            "|   |   |--- feature_6 <= 391.00\n",
            "|   |   |   |--- class: t\n",
            "|   |   |--- feature_6 >  391.00\n",
            "|   |   |   |--- class: h\n",
            "\n"
          ]
        }
      ]
    },
    {
      "cell_type": "code",
      "metadata": {
        "id": "XFaREA6Frmyv",
        "colab": {
          "base_uri": "https://localhost:8080/",
          "height": 618
        },
        "outputId": "d2334cb3-ad1b-4c27-d591-ad3d82e291e4"
      },
      "source": [
        "# Display graphviz version of the tree\n",
        "names_list = list(df_all)\n",
        "dot_data = tree.export_graphviz(clf, out_file=None, filled=True, rounded=True, special_characters=True,\n",
        "                                feature_names=names_list, class_names=['h','t','u'])\n",
        "graph = graphviz.Source(dot_data)\n",
        "graph"
      ],
      "execution_count": 17,
      "outputs": [
        {
          "output_type": "execute_result",
          "data": {
            "text/plain": [
              "<graphviz.files.Source at 0x7f31901d2b50>"
            ],
            "image/svg+xml": "<?xml version=\"1.0\" encoding=\"UTF-8\" standalone=\"no\"?>\n<!DOCTYPE svg PUBLIC \"-//W3C//DTD SVG 1.1//EN\"\n \"http://www.w3.org/Graphics/SVG/1.1/DTD/svg11.dtd\">\n<!-- Generated by graphviz version 2.40.1 (20161225.0304)\n -->\n<!-- Title: Tree Pages: 1 -->\n<svg width=\"1194pt\" height=\"433pt\"\n viewBox=\"0.00 0.00 1194.00 433.00\" xmlns=\"http://www.w3.org/2000/svg\" xmlns:xlink=\"http://www.w3.org/1999/xlink\">\n<g id=\"graph0\" class=\"graph\" transform=\"scale(1 1) rotate(0) translate(4 429)\">\n<title>Tree</title>\n<polygon fill=\"#ffffff\" stroke=\"transparent\" points=\"-4,4 -4,-429 1190,-429 1190,4 -4,4\"/>\n<!-- 0 -->\n<g id=\"node1\" class=\"node\">\n<title>0</title>\n<path fill=\"#ffffff\" stroke=\"#000000\" d=\"M638.5,-425C638.5,-425 498.5,-425 498.5,-425 492.5,-425 486.5,-419 486.5,-413 486.5,-413 486.5,-354 486.5,-354 486.5,-348 492.5,-342 498.5,-342 498.5,-342 638.5,-342 638.5,-342 644.5,-342 650.5,-348 650.5,-354 650.5,-354 650.5,-413 650.5,-413 650.5,-419 644.5,-425 638.5,-425\"/>\n<text text-anchor=\"start\" x=\"509.5\" y=\"-409.8\" font-family=\"Helvetica,sans-Serif\" font-size=\"14.00\" fill=\"#000000\">YearBuilt ≤ 1977.5</text>\n<text text-anchor=\"start\" x=\"517.5\" y=\"-394.8\" font-family=\"Helvetica,sans-Serif\" font-size=\"14.00\" fill=\"#000000\">entropy = 1.583</text>\n<text text-anchor=\"start\" x=\"520.5\" y=\"-379.8\" font-family=\"Helvetica,sans-Serif\" font-size=\"14.00\" fill=\"#000000\">samples = 810</text>\n<text text-anchor=\"start\" x=\"494.5\" y=\"-364.8\" font-family=\"Helvetica,sans-Serif\" font-size=\"14.00\" fill=\"#000000\">value = [248, 281, 281]</text>\n<text text-anchor=\"start\" x=\"541.5\" y=\"-349.8\" font-family=\"Helvetica,sans-Serif\" font-size=\"14.00\" fill=\"#000000\">class = t</text>\n</g>\n<!-- 1 -->\n<g id=\"node2\" class=\"node\">\n<title>1</title>\n<path fill=\"#fae7da\" stroke=\"#000000\" d=\"M493.5,-306C493.5,-306 361.5,-306 361.5,-306 355.5,-306 349.5,-300 349.5,-294 349.5,-294 349.5,-235 349.5,-235 349.5,-229 355.5,-223 361.5,-223 361.5,-223 493.5,-223 493.5,-223 499.5,-223 505.5,-229 505.5,-235 505.5,-235 505.5,-294 505.5,-294 505.5,-300 499.5,-306 493.5,-306\"/>\n<text text-anchor=\"start\" x=\"386.5\" y=\"-290.8\" font-family=\"Helvetica,sans-Serif\" font-size=\"14.00\" fill=\"#000000\">Rooms ≤ 2.5</text>\n<text text-anchor=\"start\" x=\"376.5\" y=\"-275.8\" font-family=\"Helvetica,sans-Serif\" font-size=\"14.00\" fill=\"#000000\">entropy = 1.264</text>\n<text text-anchor=\"start\" x=\"379.5\" y=\"-260.8\" font-family=\"Helvetica,sans-Serif\" font-size=\"14.00\" fill=\"#000000\">samples = 370</text>\n<text text-anchor=\"start\" x=\"357.5\" y=\"-245.8\" font-family=\"Helvetica,sans-Serif\" font-size=\"14.00\" fill=\"#000000\">value = [194, 23, 153]</text>\n<text text-anchor=\"start\" x=\"398.5\" y=\"-230.8\" font-family=\"Helvetica,sans-Serif\" font-size=\"14.00\" fill=\"#000000\">class = h</text>\n</g>\n<!-- 0&#45;&gt;1 -->\n<g id=\"edge1\" class=\"edge\">\n<title>0&#45;&gt;1</title>\n<path fill=\"none\" stroke=\"#000000\" d=\"M519.185,-341.8796C508.0868,-332.513 496.2165,-322.4948 484.8223,-312.8784\"/>\n<polygon fill=\"#000000\" stroke=\"#000000\" points=\"486.925,-310.0731 477.0254,-306.2981 482.4101,-315.4225 486.925,-310.0731\"/>\n<text text-anchor=\"middle\" x=\"479.1333\" y=\"-327.5091\" font-family=\"Helvetica,sans-Serif\" font-size=\"14.00\" fill=\"#000000\">True</text>\n</g>\n<!-- 8 -->\n<g id=\"node9\" class=\"node\">\n<title>8</title>\n<path fill=\"#adf4ca\" stroke=\"#000000\" d=\"M803,-306C803,-306 660,-306 660,-306 654,-306 648,-300 648,-294 648,-294 648,-235 648,-235 648,-229 654,-223 660,-223 660,-223 803,-223 803,-223 809,-223 815,-229 815,-235 815,-235 815,-294 815,-294 815,-300 809,-306 803,-306\"/>\n<text text-anchor=\"start\" x=\"656\" y=\"-290.8\" font-family=\"Helvetica,sans-Serif\" font-size=\"14.00\" fill=\"#000000\">BuildingArea ≤ 104.315</text>\n<text text-anchor=\"start\" x=\"680.5\" y=\"-275.8\" font-family=\"Helvetica,sans-Serif\" font-size=\"14.00\" fill=\"#000000\">entropy = 1.341</text>\n<text text-anchor=\"start\" x=\"683.5\" y=\"-260.8\" font-family=\"Helvetica,sans-Serif\" font-size=\"14.00\" fill=\"#000000\">samples = 440</text>\n<text text-anchor=\"start\" x=\"661.5\" y=\"-245.8\" font-family=\"Helvetica,sans-Serif\" font-size=\"14.00\" fill=\"#000000\">value = [54, 258, 128]</text>\n<text text-anchor=\"start\" x=\"704.5\" y=\"-230.8\" font-family=\"Helvetica,sans-Serif\" font-size=\"14.00\" fill=\"#000000\">class = t</text>\n</g>\n<!-- 0&#45;&gt;8 -->\n<g id=\"edge8\" class=\"edge\">\n<title>0&#45;&gt;8</title>\n<path fill=\"none\" stroke=\"#000000\" d=\"M625.5095,-341.8796C638.6621,-332.2774 652.7528,-321.9903 666.2268,-312.1534\"/>\n<polygon fill=\"#000000\" stroke=\"#000000\" points=\"668.5098,-314.8202 674.5227,-306.0969 664.3823,-309.1666 668.5098,-314.8202\"/>\n<text text-anchor=\"middle\" x=\"670.6686\" y=\"-327.0981\" font-family=\"Helvetica,sans-Serif\" font-size=\"14.00\" fill=\"#000000\">False</text>\n</g>\n<!-- 2 -->\n<g id=\"node3\" class=\"node\">\n<title>2</title>\n<path fill=\"#a572ed\" stroke=\"#000000\" d=\"M272.5,-187C272.5,-187 148.5,-187 148.5,-187 142.5,-187 136.5,-181 136.5,-175 136.5,-175 136.5,-116 136.5,-116 136.5,-110 142.5,-104 148.5,-104 148.5,-104 272.5,-104 272.5,-104 278.5,-104 284.5,-110 284.5,-116 284.5,-116 284.5,-175 284.5,-175 284.5,-181 278.5,-187 272.5,-187\"/>\n<text text-anchor=\"start\" x=\"155.5\" y=\"-171.8\" font-family=\"Helvetica,sans-Serif\" font-size=\"14.00\" fill=\"#000000\">Price ≤ 915000.0</text>\n<text text-anchor=\"start\" x=\"159.5\" y=\"-156.8\" font-family=\"Helvetica,sans-Serif\" font-size=\"14.00\" fill=\"#000000\">entropy = 0.974</text>\n<text text-anchor=\"start\" x=\"162.5\" y=\"-141.8\" font-family=\"Helvetica,sans-Serif\" font-size=\"14.00\" fill=\"#000000\">samples = 182</text>\n<text text-anchor=\"start\" x=\"144.5\" y=\"-126.8\" font-family=\"Helvetica,sans-Serif\" font-size=\"14.00\" fill=\"#000000\">value = [33, 10, 139]</text>\n<text text-anchor=\"start\" x=\"181.5\" y=\"-111.8\" font-family=\"Helvetica,sans-Serif\" font-size=\"14.00\" fill=\"#000000\">class = u</text>\n</g>\n<!-- 1&#45;&gt;2 -->\n<g id=\"edge2\" class=\"edge\">\n<title>1&#45;&gt;2</title>\n<path fill=\"none\" stroke=\"#000000\" d=\"M351.6039,-222.8796C332.8231,-212.5804 312.6056,-201.4934 293.5053,-191.0191\"/>\n<polygon fill=\"#000000\" stroke=\"#000000\" points=\"294.9759,-187.8338 284.5248,-186.0942 291.61,-193.9715 294.9759,-187.8338\"/>\n</g>\n<!-- 5 -->\n<g id=\"node6\" class=\"node\">\n<title>5</title>\n<path fill=\"#e99558\" stroke=\"#000000\" d=\"M489.5,-187C489.5,-187 365.5,-187 365.5,-187 359.5,-187 353.5,-181 353.5,-175 353.5,-175 353.5,-116 353.5,-116 353.5,-110 359.5,-104 365.5,-104 365.5,-104 489.5,-104 489.5,-104 495.5,-104 501.5,-110 501.5,-116 501.5,-116 501.5,-175 501.5,-175 501.5,-181 495.5,-187 489.5,-187\"/>\n<text text-anchor=\"start\" x=\"371.5\" y=\"-171.8\" font-family=\"Helvetica,sans-Serif\" font-size=\"14.00\" fill=\"#000000\">Landsize ≤ 429.0</text>\n<text text-anchor=\"start\" x=\"376.5\" y=\"-156.8\" font-family=\"Helvetica,sans-Serif\" font-size=\"14.00\" fill=\"#000000\">entropy = 0.737</text>\n<text text-anchor=\"start\" x=\"379.5\" y=\"-141.8\" font-family=\"Helvetica,sans-Serif\" font-size=\"14.00\" fill=\"#000000\">samples = 188</text>\n<text text-anchor=\"start\" x=\"361.5\" y=\"-126.8\" font-family=\"Helvetica,sans-Serif\" font-size=\"14.00\" fill=\"#000000\">value = [161, 13, 14]</text>\n<text text-anchor=\"start\" x=\"398.5\" y=\"-111.8\" font-family=\"Helvetica,sans-Serif\" font-size=\"14.00\" fill=\"#000000\">class = h</text>\n</g>\n<!-- 1&#45;&gt;5 -->\n<g id=\"edge5\" class=\"edge\">\n<title>1&#45;&gt;5</title>\n<path fill=\"none\" stroke=\"#000000\" d=\"M427.5,-222.8796C427.5,-214.6838 427.5,-205.9891 427.5,-197.5013\"/>\n<polygon fill=\"#000000\" stroke=\"#000000\" points=\"431.0001,-197.298 427.5,-187.2981 424.0001,-197.2981 431.0001,-197.298\"/>\n</g>\n<!-- 3 -->\n<g id=\"node4\" class=\"node\">\n<title>3</title>\n<path fill=\"#8f4fe8\" stroke=\"#000000\" d=\"M119,-68C119,-68 12,-68 12,-68 6,-68 0,-62 0,-56 0,-56 0,-12 0,-12 0,-6 6,0 12,0 12,0 119,0 119,0 125,0 131,-6 131,-12 131,-12 131,-56 131,-56 131,-62 125,-68 119,-68\"/>\n<text text-anchor=\"start\" x=\"14.5\" y=\"-52.8\" font-family=\"Helvetica,sans-Serif\" font-size=\"14.00\" fill=\"#000000\">entropy = 0.595</text>\n<text text-anchor=\"start\" x=\"17.5\" y=\"-37.8\" font-family=\"Helvetica,sans-Serif\" font-size=\"14.00\" fill=\"#000000\">samples = 150</text>\n<text text-anchor=\"start\" x=\"8\" y=\"-22.8\" font-family=\"Helvetica,sans-Serif\" font-size=\"14.00\" fill=\"#000000\">value = [9, 7, 134]</text>\n<text text-anchor=\"start\" x=\"36.5\" y=\"-7.8\" font-family=\"Helvetica,sans-Serif\" font-size=\"14.00\" fill=\"#000000\">class = u</text>\n</g>\n<!-- 2&#45;&gt;3 -->\n<g id=\"edge3\" class=\"edge\">\n<title>2&#45;&gt;3</title>\n<path fill=\"none\" stroke=\"#000000\" d=\"M156.5074,-103.9815C143.9578,-94.3313 130.6153,-84.0714 118.1256,-74.4673\"/>\n<polygon fill=\"#000000\" stroke=\"#000000\" points=\"120.119,-71.585 110.0581,-68.2637 115.8519,-77.134 120.119,-71.585\"/>\n</g>\n<!-- 4 -->\n<g id=\"node5\" class=\"node\">\n<title>4</title>\n<path fill=\"#eda674\" stroke=\"#000000\" d=\"M260,-68C260,-68 161,-68 161,-68 155,-68 149,-62 149,-56 149,-56 149,-12 149,-12 149,-6 155,0 161,0 161,0 260,0 260,0 266,0 272,-6 272,-12 272,-12 272,-56 272,-56 272,-62 266,-68 260,-68\"/>\n<text text-anchor=\"start\" x=\"163.5\" y=\"-52.8\" font-family=\"Helvetica,sans-Serif\" font-size=\"14.00\" fill=\"#000000\">entropy = 1.05</text>\n<text text-anchor=\"start\" x=\"166.5\" y=\"-37.8\" font-family=\"Helvetica,sans-Serif\" font-size=\"14.00\" fill=\"#000000\">samples = 32</text>\n<text text-anchor=\"start\" x=\"157\" y=\"-22.8\" font-family=\"Helvetica,sans-Serif\" font-size=\"14.00\" fill=\"#000000\">value = [24, 3, 5]</text>\n<text text-anchor=\"start\" x=\"181.5\" y=\"-7.8\" font-family=\"Helvetica,sans-Serif\" font-size=\"14.00\" fill=\"#000000\">class = h</text>\n</g>\n<!-- 2&#45;&gt;4 -->\n<g id=\"edge4\" class=\"edge\">\n<title>2&#45;&gt;4</title>\n<path fill=\"none\" stroke=\"#000000\" d=\"M210.5,-103.9815C210.5,-95.618 210.5,-86.7965 210.5,-78.3409\"/>\n<polygon fill=\"#000000\" stroke=\"#000000\" points=\"214.0001,-78.2636 210.5,-68.2637 207.0001,-78.2637 214.0001,-78.2636\"/>\n</g>\n<!-- 6 -->\n<g id=\"node7\" class=\"node\">\n<title>6</title>\n<path fill=\"#efb285\" stroke=\"#000000\" d=\"M418.5,-68C418.5,-68 302.5,-68 302.5,-68 296.5,-68 290.5,-62 290.5,-56 290.5,-56 290.5,-12 290.5,-12 290.5,-6 296.5,0 302.5,0 302.5,0 418.5,0 418.5,0 424.5,0 430.5,-6 430.5,-12 430.5,-12 430.5,-56 430.5,-56 430.5,-62 424.5,-68 418.5,-68\"/>\n<text text-anchor=\"start\" x=\"313.5\" y=\"-52.8\" font-family=\"Helvetica,sans-Serif\" font-size=\"14.00\" fill=\"#000000\">entropy = 1.22</text>\n<text text-anchor=\"start\" x=\"316.5\" y=\"-37.8\" font-family=\"Helvetica,sans-Serif\" font-size=\"14.00\" fill=\"#000000\">samples = 69</text>\n<text text-anchor=\"start\" x=\"298.5\" y=\"-22.8\" font-family=\"Helvetica,sans-Serif\" font-size=\"14.00\" fill=\"#000000\">value = [47, 10, 12]</text>\n<text text-anchor=\"start\" x=\"331.5\" y=\"-7.8\" font-family=\"Helvetica,sans-Serif\" font-size=\"14.00\" fill=\"#000000\">class = h</text>\n</g>\n<!-- 5&#45;&gt;6 -->\n<g id=\"edge6\" class=\"edge\">\n<title>5&#45;&gt;6</title>\n<path fill=\"none\" stroke=\"#000000\" d=\"M402.5517,-103.9815C397.2499,-95.1585 391.6419,-85.8258 386.3089,-76.9506\"/>\n<polygon fill=\"#000000\" stroke=\"#000000\" points=\"389.2396,-75.0325 381.0889,-68.2637 383.2395,-78.638 389.2396,-75.0325\"/>\n</g>\n<!-- 7 -->\n<g id=\"node8\" class=\"node\">\n<title>7</title>\n<path fill=\"#e68642\" stroke=\"#000000\" d=\"M568,-68C568,-68 461,-68 461,-68 455,-68 449,-62 449,-56 449,-56 449,-12 449,-12 449,-6 455,0 461,0 461,0 568,0 568,0 574,0 580,-6 580,-12 580,-12 580,-56 580,-56 580,-62 574,-68 568,-68\"/>\n<text text-anchor=\"start\" x=\"463.5\" y=\"-52.8\" font-family=\"Helvetica,sans-Serif\" font-size=\"14.00\" fill=\"#000000\">entropy = 0.292</text>\n<text text-anchor=\"start\" x=\"466.5\" y=\"-37.8\" font-family=\"Helvetica,sans-Serif\" font-size=\"14.00\" fill=\"#000000\">samples = 119</text>\n<text text-anchor=\"start\" x=\"457\" y=\"-22.8\" font-family=\"Helvetica,sans-Serif\" font-size=\"14.00\" fill=\"#000000\">value = [114, 3, 2]</text>\n<text text-anchor=\"start\" x=\"485.5\" y=\"-7.8\" font-family=\"Helvetica,sans-Serif\" font-size=\"14.00\" fill=\"#000000\">class = h</text>\n</g>\n<!-- 5&#45;&gt;7 -->\n<g id=\"edge7\" class=\"edge\">\n<title>5&#45;&gt;7</title>\n<path fill=\"none\" stroke=\"#000000\" d=\"M459.8956,-103.9815C466.9234,-94.9747 474.3655,-85.4367 481.4193,-76.3965\"/>\n<polygon fill=\"#000000\" stroke=\"#000000\" points=\"484.3728,-78.3008 487.7651,-68.2637 478.854,-73.9946 484.3728,-78.3008\"/>\n</g>\n<!-- 9 -->\n<g id=\"node10\" class=\"node\">\n<title>9</title>\n<path fill=\"#c8a8f4\" stroke=\"#000000\" d=\"M785,-187C785,-187 678,-187 678,-187 672,-187 666,-181 666,-175 666,-175 666,-116 666,-116 666,-110 672,-104 678,-104 678,-104 785,-104 785,-104 791,-104 797,-110 797,-116 797,-116 797,-175 797,-175 797,-181 791,-187 785,-187\"/>\n<text text-anchor=\"start\" x=\"680\" y=\"-171.8\" font-family=\"Helvetica,sans-Serif\" font-size=\"14.00\" fill=\"#000000\">Landsize ≤ 76.0</text>\n<text text-anchor=\"start\" x=\"680.5\" y=\"-156.8\" font-family=\"Helvetica,sans-Serif\" font-size=\"14.00\" fill=\"#000000\">entropy = 1.118</text>\n<text text-anchor=\"start\" x=\"683.5\" y=\"-141.8\" font-family=\"Helvetica,sans-Serif\" font-size=\"14.00\" fill=\"#000000\">samples = 145</text>\n<text text-anchor=\"start\" x=\"674\" y=\"-126.8\" font-family=\"Helvetica,sans-Serif\" font-size=\"14.00\" fill=\"#000000\">value = [5, 49, 91]</text>\n<text text-anchor=\"start\" x=\"702.5\" y=\"-111.8\" font-family=\"Helvetica,sans-Serif\" font-size=\"14.00\" fill=\"#000000\">class = u</text>\n</g>\n<!-- 8&#45;&gt;9 -->\n<g id=\"edge9\" class=\"edge\">\n<title>8&#45;&gt;9</title>\n<path fill=\"none\" stroke=\"#000000\" d=\"M731.5,-222.8796C731.5,-214.6838 731.5,-205.9891 731.5,-197.5013\"/>\n<polygon fill=\"#000000\" stroke=\"#000000\" points=\"735.0001,-197.298 731.5,-187.2981 728.0001,-197.2981 735.0001,-197.298\"/>\n</g>\n<!-- 12 -->\n<g id=\"node13\" class=\"node\">\n<title>12</title>\n<path fill=\"#7eeead\" stroke=\"#000000\" d=\"M1024.5,-187C1024.5,-187 900.5,-187 900.5,-187 894.5,-187 888.5,-181 888.5,-175 888.5,-175 888.5,-116 888.5,-116 888.5,-110 894.5,-104 900.5,-104 900.5,-104 1024.5,-104 1024.5,-104 1030.5,-104 1036.5,-110 1036.5,-116 1036.5,-116 1036.5,-175 1036.5,-175 1036.5,-181 1030.5,-187 1024.5,-187\"/>\n<text text-anchor=\"start\" x=\"906.5\" y=\"-171.8\" font-family=\"Helvetica,sans-Serif\" font-size=\"14.00\" fill=\"#000000\">Landsize ≤ 391.0</text>\n<text text-anchor=\"start\" x=\"911.5\" y=\"-156.8\" font-family=\"Helvetica,sans-Serif\" font-size=\"14.00\" fill=\"#000000\">entropy = 1.158</text>\n<text text-anchor=\"start\" x=\"914.5\" y=\"-141.8\" font-family=\"Helvetica,sans-Serif\" font-size=\"14.00\" fill=\"#000000\">samples = 295</text>\n<text text-anchor=\"start\" x=\"896.5\" y=\"-126.8\" font-family=\"Helvetica,sans-Serif\" font-size=\"14.00\" fill=\"#000000\">value = [49, 209, 37]</text>\n<text text-anchor=\"start\" x=\"935.5\" y=\"-111.8\" font-family=\"Helvetica,sans-Serif\" font-size=\"14.00\" fill=\"#000000\">class = t</text>\n</g>\n<!-- 8&#45;&gt;12 -->\n<g id=\"edge12\" class=\"edge\">\n<title>8&#45;&gt;12</title>\n<path fill=\"none\" stroke=\"#000000\" d=\"M812.2926,-222.8796C834.0191,-211.6871 857.5519,-199.5642 879.4015,-188.3083\"/>\n<polygon fill=\"#000000\" stroke=\"#000000\" points=\"881.0408,-191.401 888.3277,-183.71 877.8351,-185.1782 881.0408,-191.401\"/>\n</g>\n<!-- 10 -->\n<g id=\"node11\" class=\"node\">\n<title>10</title>\n<path fill=\"#9253e8\" stroke=\"#000000\" d=\"M709,-68C709,-68 610,-68 610,-68 604,-68 598,-62 598,-56 598,-56 598,-12 598,-12 598,-6 604,0 610,0 610,0 709,0 709,0 715,0 721,-6 721,-12 721,-12 721,-56 721,-56 721,-62 715,-68 709,-68\"/>\n<text text-anchor=\"start\" x=\"608.5\" y=\"-52.8\" font-family=\"Helvetica,sans-Serif\" font-size=\"14.00\" fill=\"#000000\">entropy = 0.523</text>\n<text text-anchor=\"start\" x=\"615.5\" y=\"-37.8\" font-family=\"Helvetica,sans-Serif\" font-size=\"14.00\" fill=\"#000000\">samples = 68</text>\n<text text-anchor=\"start\" x=\"606\" y=\"-22.8\" font-family=\"Helvetica,sans-Serif\" font-size=\"14.00\" fill=\"#000000\">value = [0, 8, 60]</text>\n<text text-anchor=\"start\" x=\"630.5\" y=\"-7.8\" font-family=\"Helvetica,sans-Serif\" font-size=\"14.00\" fill=\"#000000\">class = u</text>\n</g>\n<!-- 9&#45;&gt;10 -->\n<g id=\"edge10\" class=\"edge\">\n<title>9&#45;&gt;10</title>\n<path fill=\"none\" stroke=\"#000000\" d=\"M704.6899,-103.9815C698.9331,-95.0666 692.8404,-85.6313 687.0559,-76.6734\"/>\n<polygon fill=\"#000000\" stroke=\"#000000\" points=\"689.9904,-74.7658 681.6254,-68.2637 684.1099,-78.5631 689.9904,-74.7658\"/>\n</g>\n<!-- 11 -->\n<g id=\"node12\" class=\"node\">\n<title>11</title>\n<path fill=\"#d4f9e4\" stroke=\"#000000\" d=\"M858,-68C858,-68 751,-68 751,-68 745,-68 739,-62 739,-56 739,-56 739,-12 739,-12 739,-6 745,0 751,0 751,0 858,0 858,0 864,0 870,-6 870,-12 870,-12 870,-56 870,-56 870,-62 864,-68 858,-68\"/>\n<text text-anchor=\"start\" x=\"753.5\" y=\"-52.8\" font-family=\"Helvetica,sans-Serif\" font-size=\"14.00\" fill=\"#000000\">entropy = 1.269</text>\n<text text-anchor=\"start\" x=\"760.5\" y=\"-37.8\" font-family=\"Helvetica,sans-Serif\" font-size=\"14.00\" fill=\"#000000\">samples = 77</text>\n<text text-anchor=\"start\" x=\"747\" y=\"-22.8\" font-family=\"Helvetica,sans-Serif\" font-size=\"14.00\" fill=\"#000000\">value = [5, 41, 31]</text>\n<text text-anchor=\"start\" x=\"777.5\" y=\"-7.8\" font-family=\"Helvetica,sans-Serif\" font-size=\"14.00\" fill=\"#000000\">class = t</text>\n</g>\n<!-- 9&#45;&gt;11 -->\n<g id=\"edge11\" class=\"edge\">\n<title>9&#45;&gt;11</title>\n<path fill=\"none\" stroke=\"#000000\" d=\"M758.6825,-103.9815C764.5192,-95.0666 770.6966,-85.6313 776.5614,-76.6734\"/>\n<polygon fill=\"#000000\" stroke=\"#000000\" points=\"779.5179,-78.5472 782.0673,-68.2637 773.6614,-74.7129 779.5179,-78.5472\"/>\n</g>\n<!-- 13 -->\n<g id=\"node14\" class=\"node\">\n<title>13</title>\n<path fill=\"#69eb9f\" stroke=\"#000000\" d=\"M1024.5,-68C1024.5,-68 900.5,-68 900.5,-68 894.5,-68 888.5,-62 888.5,-56 888.5,-56 888.5,-12 888.5,-12 888.5,-6 894.5,0 900.5,0 900.5,0 1024.5,0 1024.5,0 1030.5,0 1036.5,-6 1036.5,-12 1036.5,-12 1036.5,-56 1036.5,-56 1036.5,-62 1030.5,-68 1024.5,-68\"/>\n<text text-anchor=\"start\" x=\"911.5\" y=\"-52.8\" font-family=\"Helvetica,sans-Serif\" font-size=\"14.00\" fill=\"#000000\">entropy = 0.933</text>\n<text text-anchor=\"start\" x=\"914.5\" y=\"-37.8\" font-family=\"Helvetica,sans-Serif\" font-size=\"14.00\" fill=\"#000000\">samples = 245</text>\n<text text-anchor=\"start\" x=\"896.5\" y=\"-22.8\" font-family=\"Helvetica,sans-Serif\" font-size=\"14.00\" fill=\"#000000\">value = [18, 194, 33]</text>\n<text text-anchor=\"start\" x=\"935.5\" y=\"-7.8\" font-family=\"Helvetica,sans-Serif\" font-size=\"14.00\" fill=\"#000000\">class = t</text>\n</g>\n<!-- 12&#45;&gt;13 -->\n<g id=\"edge13\" class=\"edge\">\n<title>12&#45;&gt;13</title>\n<path fill=\"none\" stroke=\"#000000\" d=\"M962.5,-103.9815C962.5,-95.618 962.5,-86.7965 962.5,-78.3409\"/>\n<polygon fill=\"#000000\" stroke=\"#000000\" points=\"966.0001,-78.2636 962.5,-68.2637 959.0001,-78.2637 966.0001,-78.2636\"/>\n</g>\n<!-- 14 -->\n<g id=\"node15\" class=\"node\">\n<title>14</title>\n<path fill=\"#f3c5a4\" stroke=\"#000000\" d=\"M1174,-68C1174,-68 1067,-68 1067,-68 1061,-68 1055,-62 1055,-56 1055,-56 1055,-12 1055,-12 1055,-6 1061,0 1067,0 1067,0 1174,0 1174,0 1180,0 1186,-6 1186,-12 1186,-12 1186,-56 1186,-56 1186,-62 1180,-68 1174,-68\"/>\n<text text-anchor=\"start\" x=\"1073.5\" y=\"-52.8\" font-family=\"Helvetica,sans-Serif\" font-size=\"14.00\" fill=\"#000000\">entropy = 1.24</text>\n<text text-anchor=\"start\" x=\"1076.5\" y=\"-37.8\" font-family=\"Helvetica,sans-Serif\" font-size=\"14.00\" fill=\"#000000\">samples = 50</text>\n<text text-anchor=\"start\" x=\"1063\" y=\"-22.8\" font-family=\"Helvetica,sans-Serif\" font-size=\"14.00\" fill=\"#000000\">value = [31, 15, 4]</text>\n<text text-anchor=\"start\" x=\"1091.5\" y=\"-7.8\" font-family=\"Helvetica,sans-Serif\" font-size=\"14.00\" fill=\"#000000\">class = h</text>\n</g>\n<!-- 12&#45;&gt;14 -->\n<g id=\"edge14\" class=\"edge\">\n<title>12&#45;&gt;14</title>\n<path fill=\"none\" stroke=\"#000000\" d=\"M1021.3334,-103.9815C1035.211,-94.1881 1049.9784,-83.7668 1063.7614,-74.0402\"/>\n<polygon fill=\"#000000\" stroke=\"#000000\" points=\"1066.0469,-76.7111 1072.1993,-68.0856 1062.0108,-70.9918 1066.0469,-76.7111\"/>\n</g>\n</g>\n</svg>\n"
          },
          "metadata": {},
          "execution_count": 17
        }
      ]
    },
    {
      "cell_type": "markdown",
      "metadata": {
        "id": "UtkL3I7Irmyv"
      },
      "source": [
        "➡️ Answer containing your descriptive analytics in markdown here ⬅️"
      ]
    },
    {
      "cell_type": "markdown",
      "metadata": {
        "id": "jw32op9grmyv"
      },
      "source": [
        "## Q7 Calculate the Accuracy and Display Learning Curve\n",
        "Load in the test data from melb_tree_test.csv.\n",
        "\n",
        "Use the scikit-learn library to create many decision trees, each one with a different configuration (aka Hyperparameters).  You will create 28 different trees by:\n",
        "\n",
        "    - Varying the max depth from 2 to 15 with the Gini Index as the impurity measure\n",
        "    - Varying the max depth from 2 to 15 with the Entropy as the impurity measure\n",
        "\n",
        "Implementation tip: you can create an array of numbers from 2 to 15 by using the numpy function [arange](https://numpy.org/doc/stable/reference/generated/numpy.arange.html).\n",
        "\n",
        "For each of the 28 decistion trees, calculate the error rate by using the data in the: \n",
        "  - Training set, and\n",
        "  - Test set.\n",
        "\n",
        "Display the results graphicaly, and offer an analysis of the trend (or if no trend present, offer a hypotheisis of why).  The max depth should be on the x-axis, and the error rate should be on the y-axis (see figure 3.23 in your DM textbook for a similar style of graph that uses leaf nodes instead of depth for the x-axis). Your plot will include 4 series of data\n",
        "   - Test error (entropy)\n",
        "   - Test error (gini index)\n",
        "   - Training error (entropy)\n",
        "   - Training error (gini index)"
      ]
    },
    {
      "cell_type": "code",
      "metadata": {
        "id": "6Y7YProxrmyw",
        "colab": {
          "base_uri": "https://localhost:8080/",
          "height": 456
        },
        "outputId": "b2de8673-226e-4b6f-9d78-2842a116ec46"
      },
      "source": [
        "# Load in the test data\n",
        "dt= pd.read_csv('https://gist.githubusercontent.com/yanyanzheng96/ec66da011b165f0e282c0c1f8447010e/raw/d02c3829a7e9db2d156ba1ab9d5bb4d18ae57be8/melb_tree_test.csv')\n",
        "\n",
        "test = pd.get_dummies(dt['CouncilArea'])\n",
        "syTest = dt['Type']\n",
        "testData = dt.drop(labels = ['CouncilArea', 'Type'], axis=1)\n",
        "test_tree_df = pd.concat([testData,test], axis =1)\n",
        "test_tree_df\n"
      ],
      "execution_count": 18,
      "outputs": [
        {
          "output_type": "execute_result",
          "data": {
            "text/html": [
              "<div>\n",
              "<style scoped>\n",
              "    .dataframe tbody tr th:only-of-type {\n",
              "        vertical-align: middle;\n",
              "    }\n",
              "\n",
              "    .dataframe tbody tr th {\n",
              "        vertical-align: top;\n",
              "    }\n",
              "\n",
              "    .dataframe thead th {\n",
              "        text-align: right;\n",
              "    }\n",
              "</style>\n",
              "<table border=\"1\" class=\"dataframe\">\n",
              "  <thead>\n",
              "    <tr style=\"text-align: right;\">\n",
              "      <th></th>\n",
              "      <th>Rooms</th>\n",
              "      <th>Price</th>\n",
              "      <th>Distance</th>\n",
              "      <th>Bedroom2</th>\n",
              "      <th>Bathroom</th>\n",
              "      <th>Car</th>\n",
              "      <th>Landsize</th>\n",
              "      <th>BuildingArea</th>\n",
              "      <th>YearBuilt</th>\n",
              "      <th>Banyule</th>\n",
              "      <th>Bayside</th>\n",
              "      <th>Boroondara</th>\n",
              "      <th>Brimbank</th>\n",
              "      <th>Darebin</th>\n",
              "      <th>Glen Eira</th>\n",
              "      <th>Hobsons Bay</th>\n",
              "      <th>Hume</th>\n",
              "      <th>Kingston</th>\n",
              "      <th>Knox</th>\n",
              "      <th>Manningham</th>\n",
              "      <th>Maribyrnong</th>\n",
              "      <th>Melbourne</th>\n",
              "      <th>Monash</th>\n",
              "      <th>Moonee Valley</th>\n",
              "      <th>Moreland</th>\n",
              "      <th>Port Phillip</th>\n",
              "      <th>Stonnington</th>\n",
              "      <th>Whitehorse</th>\n",
              "      <th>Wyndham</th>\n",
              "      <th>Yarra</th>\n",
              "    </tr>\n",
              "  </thead>\n",
              "  <tbody>\n",
              "    <tr>\n",
              "      <th>0</th>\n",
              "      <td>2</td>\n",
              "      <td>930000.0</td>\n",
              "      <td>2.6</td>\n",
              "      <td>2.0</td>\n",
              "      <td>1.0</td>\n",
              "      <td>1.0</td>\n",
              "      <td>97.0</td>\n",
              "      <td>85.0</td>\n",
              "      <td>2004.0</td>\n",
              "      <td>0</td>\n",
              "      <td>0</td>\n",
              "      <td>0</td>\n",
              "      <td>0</td>\n",
              "      <td>0</td>\n",
              "      <td>0</td>\n",
              "      <td>0</td>\n",
              "      <td>0</td>\n",
              "      <td>0</td>\n",
              "      <td>0</td>\n",
              "      <td>0</td>\n",
              "      <td>0</td>\n",
              "      <td>0</td>\n",
              "      <td>0</td>\n",
              "      <td>0</td>\n",
              "      <td>0</td>\n",
              "      <td>0</td>\n",
              "      <td>0</td>\n",
              "      <td>0</td>\n",
              "      <td>0</td>\n",
              "      <td>1</td>\n",
              "    </tr>\n",
              "    <tr>\n",
              "      <th>1</th>\n",
              "      <td>3</td>\n",
              "      <td>815000.0</td>\n",
              "      <td>11.0</td>\n",
              "      <td>3.0</td>\n",
              "      <td>2.0</td>\n",
              "      <td>2.0</td>\n",
              "      <td>159.0</td>\n",
              "      <td>130.0</td>\n",
              "      <td>2014.0</td>\n",
              "      <td>0</td>\n",
              "      <td>0</td>\n",
              "      <td>0</td>\n",
              "      <td>0</td>\n",
              "      <td>0</td>\n",
              "      <td>0</td>\n",
              "      <td>1</td>\n",
              "      <td>0</td>\n",
              "      <td>0</td>\n",
              "      <td>0</td>\n",
              "      <td>0</td>\n",
              "      <td>0</td>\n",
              "      <td>0</td>\n",
              "      <td>0</td>\n",
              "      <td>0</td>\n",
              "      <td>0</td>\n",
              "      <td>0</td>\n",
              "      <td>0</td>\n",
              "      <td>0</td>\n",
              "      <td>0</td>\n",
              "      <td>0</td>\n",
              "    </tr>\n",
              "    <tr>\n",
              "      <th>2</th>\n",
              "      <td>4</td>\n",
              "      <td>638000.0</td>\n",
              "      <td>13.0</td>\n",
              "      <td>4.0</td>\n",
              "      <td>2.0</td>\n",
              "      <td>1.0</td>\n",
              "      <td>624.0</td>\n",
              "      <td>258.0</td>\n",
              "      <td>2005.0</td>\n",
              "      <td>0</td>\n",
              "      <td>0</td>\n",
              "      <td>0</td>\n",
              "      <td>0</td>\n",
              "      <td>0</td>\n",
              "      <td>0</td>\n",
              "      <td>0</td>\n",
              "      <td>0</td>\n",
              "      <td>0</td>\n",
              "      <td>0</td>\n",
              "      <td>0</td>\n",
              "      <td>0</td>\n",
              "      <td>0</td>\n",
              "      <td>0</td>\n",
              "      <td>0</td>\n",
              "      <td>1</td>\n",
              "      <td>0</td>\n",
              "      <td>0</td>\n",
              "      <td>0</td>\n",
              "      <td>0</td>\n",
              "      <td>0</td>\n",
              "    </tr>\n",
              "    <tr>\n",
              "      <th>3</th>\n",
              "      <td>2</td>\n",
              "      <td>595000.0</td>\n",
              "      <td>11.2</td>\n",
              "      <td>2.0</td>\n",
              "      <td>2.0</td>\n",
              "      <td>1.0</td>\n",
              "      <td>201.0</td>\n",
              "      <td>111.0</td>\n",
              "      <td>2005.0</td>\n",
              "      <td>0</td>\n",
              "      <td>0</td>\n",
              "      <td>0</td>\n",
              "      <td>0</td>\n",
              "      <td>0</td>\n",
              "      <td>0</td>\n",
              "      <td>0</td>\n",
              "      <td>0</td>\n",
              "      <td>0</td>\n",
              "      <td>0</td>\n",
              "      <td>0</td>\n",
              "      <td>0</td>\n",
              "      <td>0</td>\n",
              "      <td>0</td>\n",
              "      <td>0</td>\n",
              "      <td>1</td>\n",
              "      <td>0</td>\n",
              "      <td>0</td>\n",
              "      <td>0</td>\n",
              "      <td>0</td>\n",
              "      <td>0</td>\n",
              "    </tr>\n",
              "    <tr>\n",
              "      <th>4</th>\n",
              "      <td>3</td>\n",
              "      <td>620500.0</td>\n",
              "      <td>11.2</td>\n",
              "      <td>3.0</td>\n",
              "      <td>2.0</td>\n",
              "      <td>1.0</td>\n",
              "      <td>158.0</td>\n",
              "      <td>117.0</td>\n",
              "      <td>2011.0</td>\n",
              "      <td>0</td>\n",
              "      <td>0</td>\n",
              "      <td>0</td>\n",
              "      <td>0</td>\n",
              "      <td>1</td>\n",
              "      <td>0</td>\n",
              "      <td>0</td>\n",
              "      <td>0</td>\n",
              "      <td>0</td>\n",
              "      <td>0</td>\n",
              "      <td>0</td>\n",
              "      <td>0</td>\n",
              "      <td>0</td>\n",
              "      <td>0</td>\n",
              "      <td>0</td>\n",
              "      <td>0</td>\n",
              "      <td>0</td>\n",
              "      <td>0</td>\n",
              "      <td>0</td>\n",
              "      <td>0</td>\n",
              "      <td>0</td>\n",
              "    </tr>\n",
              "    <tr>\n",
              "      <th>...</th>\n",
              "      <td>...</td>\n",
              "      <td>...</td>\n",
              "      <td>...</td>\n",
              "      <td>...</td>\n",
              "      <td>...</td>\n",
              "      <td>...</td>\n",
              "      <td>...</td>\n",
              "      <td>...</td>\n",
              "      <td>...</td>\n",
              "      <td>...</td>\n",
              "      <td>...</td>\n",
              "      <td>...</td>\n",
              "      <td>...</td>\n",
              "      <td>...</td>\n",
              "      <td>...</td>\n",
              "      <td>...</td>\n",
              "      <td>...</td>\n",
              "      <td>...</td>\n",
              "      <td>...</td>\n",
              "      <td>...</td>\n",
              "      <td>...</td>\n",
              "      <td>...</td>\n",
              "      <td>...</td>\n",
              "      <td>...</td>\n",
              "      <td>...</td>\n",
              "      <td>...</td>\n",
              "      <td>...</td>\n",
              "      <td>...</td>\n",
              "      <td>...</td>\n",
              "      <td>...</td>\n",
              "    </tr>\n",
              "    <tr>\n",
              "      <th>205</th>\n",
              "      <td>3</td>\n",
              "      <td>900500.0</td>\n",
              "      <td>12.2</td>\n",
              "      <td>3.0</td>\n",
              "      <td>2.0</td>\n",
              "      <td>2.0</td>\n",
              "      <td>256.0</td>\n",
              "      <td>134.0</td>\n",
              "      <td>2012.0</td>\n",
              "      <td>0</td>\n",
              "      <td>0</td>\n",
              "      <td>0</td>\n",
              "      <td>0</td>\n",
              "      <td>0</td>\n",
              "      <td>0</td>\n",
              "      <td>0</td>\n",
              "      <td>0</td>\n",
              "      <td>0</td>\n",
              "      <td>0</td>\n",
              "      <td>0</td>\n",
              "      <td>0</td>\n",
              "      <td>0</td>\n",
              "      <td>1</td>\n",
              "      <td>0</td>\n",
              "      <td>0</td>\n",
              "      <td>0</td>\n",
              "      <td>0</td>\n",
              "      <td>0</td>\n",
              "      <td>0</td>\n",
              "      <td>0</td>\n",
              "    </tr>\n",
              "    <tr>\n",
              "      <th>206</th>\n",
              "      <td>2</td>\n",
              "      <td>765000.0</td>\n",
              "      <td>9.2</td>\n",
              "      <td>2.0</td>\n",
              "      <td>1.0</td>\n",
              "      <td>2.0</td>\n",
              "      <td>563.0</td>\n",
              "      <td>116.0</td>\n",
              "      <td>1925.0</td>\n",
              "      <td>0</td>\n",
              "      <td>0</td>\n",
              "      <td>0</td>\n",
              "      <td>0</td>\n",
              "      <td>0</td>\n",
              "      <td>0</td>\n",
              "      <td>0</td>\n",
              "      <td>0</td>\n",
              "      <td>0</td>\n",
              "      <td>0</td>\n",
              "      <td>0</td>\n",
              "      <td>0</td>\n",
              "      <td>0</td>\n",
              "      <td>0</td>\n",
              "      <td>0</td>\n",
              "      <td>1</td>\n",
              "      <td>0</td>\n",
              "      <td>0</td>\n",
              "      <td>0</td>\n",
              "      <td>0</td>\n",
              "      <td>0</td>\n",
              "    </tr>\n",
              "    <tr>\n",
              "      <th>207</th>\n",
              "      <td>3</td>\n",
              "      <td>600000.0</td>\n",
              "      <td>7.8</td>\n",
              "      <td>3.0</td>\n",
              "      <td>1.0</td>\n",
              "      <td>1.0</td>\n",
              "      <td>102.0</td>\n",
              "      <td>95.0</td>\n",
              "      <td>1976.0</td>\n",
              "      <td>0</td>\n",
              "      <td>0</td>\n",
              "      <td>0</td>\n",
              "      <td>0</td>\n",
              "      <td>0</td>\n",
              "      <td>0</td>\n",
              "      <td>0</td>\n",
              "      <td>0</td>\n",
              "      <td>0</td>\n",
              "      <td>0</td>\n",
              "      <td>0</td>\n",
              "      <td>0</td>\n",
              "      <td>0</td>\n",
              "      <td>0</td>\n",
              "      <td>0</td>\n",
              "      <td>1</td>\n",
              "      <td>0</td>\n",
              "      <td>0</td>\n",
              "      <td>0</td>\n",
              "      <td>0</td>\n",
              "      <td>0</td>\n",
              "    </tr>\n",
              "    <tr>\n",
              "      <th>208</th>\n",
              "      <td>4</td>\n",
              "      <td>652500.0</td>\n",
              "      <td>9.8</td>\n",
              "      <td>4.0</td>\n",
              "      <td>2.0</td>\n",
              "      <td>1.0</td>\n",
              "      <td>179.0</td>\n",
              "      <td>160.0</td>\n",
              "      <td>1995.0</td>\n",
              "      <td>0</td>\n",
              "      <td>0</td>\n",
              "      <td>0</td>\n",
              "      <td>0</td>\n",
              "      <td>0</td>\n",
              "      <td>0</td>\n",
              "      <td>0</td>\n",
              "      <td>0</td>\n",
              "      <td>0</td>\n",
              "      <td>0</td>\n",
              "      <td>0</td>\n",
              "      <td>0</td>\n",
              "      <td>0</td>\n",
              "      <td>0</td>\n",
              "      <td>1</td>\n",
              "      <td>0</td>\n",
              "      <td>0</td>\n",
              "      <td>0</td>\n",
              "      <td>0</td>\n",
              "      <td>0</td>\n",
              "      <td>0</td>\n",
              "    </tr>\n",
              "    <tr>\n",
              "      <th>209</th>\n",
              "      <td>2</td>\n",
              "      <td>391000.0</td>\n",
              "      <td>4.4</td>\n",
              "      <td>2.0</td>\n",
              "      <td>1.0</td>\n",
              "      <td>1.0</td>\n",
              "      <td>0.0</td>\n",
              "      <td>59.0</td>\n",
              "      <td>1970.0</td>\n",
              "      <td>0</td>\n",
              "      <td>0</td>\n",
              "      <td>0</td>\n",
              "      <td>0</td>\n",
              "      <td>0</td>\n",
              "      <td>0</td>\n",
              "      <td>0</td>\n",
              "      <td>0</td>\n",
              "      <td>0</td>\n",
              "      <td>0</td>\n",
              "      <td>0</td>\n",
              "      <td>0</td>\n",
              "      <td>0</td>\n",
              "      <td>0</td>\n",
              "      <td>1</td>\n",
              "      <td>0</td>\n",
              "      <td>0</td>\n",
              "      <td>0</td>\n",
              "      <td>0</td>\n",
              "      <td>0</td>\n",
              "      <td>0</td>\n",
              "    </tr>\n",
              "  </tbody>\n",
              "</table>\n",
              "<p>210 rows × 30 columns</p>\n",
              "</div>"
            ],
            "text/plain": [
              "     Rooms     Price  Distance  ...  Whitehorse  Wyndham  Yarra\n",
              "0        2  930000.0       2.6  ...           0        0      1\n",
              "1        3  815000.0      11.0  ...           0        0      0\n",
              "2        4  638000.0      13.0  ...           0        0      0\n",
              "3        2  595000.0      11.2  ...           0        0      0\n",
              "4        3  620500.0      11.2  ...           0        0      0\n",
              "..     ...       ...       ...  ...         ...      ...    ...\n",
              "205      3  900500.0      12.2  ...           0        0      0\n",
              "206      2  765000.0       9.2  ...           0        0      0\n",
              "207      3  600000.0       7.8  ...           0        0      0\n",
              "208      4  652500.0       9.8  ...           0        0      0\n",
              "209      2  391000.0       4.4  ...           0        0      0\n",
              "\n",
              "[210 rows x 30 columns]"
            ]
          },
          "metadata": {},
          "execution_count": 18
        }
      ]
    },
    {
      "cell_type": "code",
      "metadata": {
        "id": "Mn7Ocq2zrmyw"
      },
      "source": [
        "# Build the trees using the training data\n",
        "giniList = []\n",
        "entropyList = []\n",
        "giniTestList = []\n",
        "entropyTestList = []\n",
        "#Gini\n",
        "for depth in range(2,16):\n",
        "    train = tree.DecisionTreeClassifier(criterion = 'gini', max_depth = depth)\n",
        "    train = train.fit(df_all, s_y)\n",
        "    predictData = train.predict(df_all)\n",
        "    predictTestData = train.predict(test_tree_df)\n",
        "    tempAccList = [predictData==s_y]\n",
        "    tempAccTestList = [predictTestData==syTest]\n",
        "    trainAccuracy = (sum(tempAccList[0])/ len(tempAccList[0]))\n",
        "    testAccuracy = (sum(tempAccTestList[0])/len(tempAccTestList[0]))\n",
        "    giniList.append(trainAccuracy)\n",
        "    giniTestList.append(testAccuracy)\n",
        "#Entropy\n",
        "for depth in range(2,16):\n",
        "    train = tree.DecisionTreeClassifier(criterion = 'entropy', max_depth = depth)\n",
        "    train = train.fit(df_all, s_y)\n",
        "    predictData = train.predict(df_all)\n",
        "    predictTestData = train.predict(test_tree_df)\n",
        "    tempAccList = [predictData==s_y]\n",
        "    tempAccTestList = [predictTestData==syTest]\n",
        "    trainAccuracy = (sum(tempAccList[0])/ len(tempAccList[0]))\n",
        "    testAccuracy = (sum(tempAccTestList[0])/len(tempAccTestList[0]))\n",
        "    entropyList.append(trainAccuracy)\n",
        "    entropyTestList.append(testAccuracy)\n",
        "trainError_gini = list((map(lambda x:1-x, giniList)))\n",
        "testError_gini = list((map(lambda x:1-x, giniTestList)))\n",
        "trainError_entropy =list((map(lambda x:1-x, entropyList)))\n",
        "testError_entropy = list((map(lambda x:1-x, entropyTestList)))\n",
        "\n"
      ],
      "execution_count": 19,
      "outputs": []
    },
    {
      "cell_type": "code",
      "metadata": {
        "id": "E-z2Clf2rmyw",
        "colab": {
          "base_uri": "https://localhost:8080/",
          "height": 295
        },
        "outputId": "a8403998-5a8a-4e2a-a1af-84cc36d7d7b5"
      },
      "source": [
        "# Plot the 4 learning curves\n",
        "plt.title('Error Rate vs Depth')\n",
        "plt.xlabel('Depth')\n",
        "plt.ylabel('Error Rate %')\n",
        "plt.plot(np.arange(2,16),trainError_gini, label = 'Gini Train Error')\n",
        "plt.plot(np.arange(2,16),testError_gini, label = 'Gini Test Error')\n",
        "plt.plot(np.arange(2,16),trainError_entropy, label = 'Entropy Train Error')\n",
        "plt.plot(np.arange(2,16),testError_entropy, label = 'Entropy Test Error')\n",
        "plt.legend()\n",
        "plt.show()\n",
        "\n"
      ],
      "execution_count": 20,
      "outputs": [
        {
          "output_type": "display_data",
          "data": {
            "image/png": "[encoded data removed]",
            "text/plain": [
              "<Figure size 432x288 with 1 Axes>"
            ]
          },
          "metadata": {
            "needs_background": "light"
          }
        }
      ]
    },
    {
      "cell_type": "markdown",
      "metadata": {
        "id": "sTT774qwrmyw"
      },
      "source": [
        "➡️ Answer containing your analysis of the trend (or if no trend present, offer a hypotheisis of why) here ⬅️"
      ]
    }
  ]
}