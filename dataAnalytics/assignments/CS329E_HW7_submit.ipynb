{
  "nbformat": 4,
  "nbformat_minor": 0,
  "metadata": {
    "kernelspec": {
      "display_name": "Python 3",
      "language": "python",
      "name": "python3"
    },
    "language_info": {
      "codemirror_mode": {
        "name": "ipython",
        "version": 3
      },
      "file_extension": ".py",
      "mimetype": "text/x-python",
      "name": "python",
      "nbconvert_exporter": "python",
      "pygments_lexer": "ipython3",
      "version": "3.8.8"
    },
    "colab": {
      "name": "CS329E_HW7_submit.ipynb",
      "provenance": [],
      "collapsed_sections": []
    }
  },
  "cells": [
    {
      "cell_type": "markdown",
      "metadata": {
        "id": "V-w3GWPZSSJF"
      },
      "source": [
        "## C S 329E HW 7\n",
        "\n",
        "# Naive Bayes \n",
        "\n",
        "## Your name here (and your partner's name if you are working in a pair)\n",
        "Yixing Ma\n",
        "Daniel Lam\n",
        "group 31\n",
        "\n",
        "For this week's homework we are going explore one new classification technique:\n",
        "\n",
        "  - Naive Bayes\n",
        "\n",
        "We are reusing the version of the Melbourne housing data set from HW6, to predict the housing type as one of three possible categories:\n",
        "\n",
        "  - 'h' house\n",
        "  - 'u' duplex\n",
        "  - 't' townhouse\n",
        "\n",
        "In addition to building our own Naive Bayes classifier, we are going to compare the performace of our classifier to the [Gaussian Naive Bayes Classifier](https://scikit-learn.org/stable/modules/naive_bayes.html#gaussian-naive-bayes) available in the scikit-learn library. "
      ]
    },
    {
      "cell_type": "code",
      "metadata": {
        "id": "9IYhg0PRSSJJ"
      },
      "source": [
        "# These are the libraries you will use for this assignment\n",
        "import pandas as pd\n",
        "import numpy as np\n",
        "import matplotlib.pyplot as plt\n",
        "import time\n",
        "import calendar\n",
        "from sklearn.naive_bayes import GaussianNB # The only thing in scikit-learn you can use this assignment\n",
        "\n",
        "# Starting off loading a training set and setting a variable for the target column, \"Type\"\n",
        "df_melb = pd.read_csv('https://gist.githubusercontent.com/yanyanzheng96/81b236aecee57f6cf65e60afd865d2bb/raw/56ddb53aa90c26ab1bdbfd0b8d8229c8d08ce45a/melb_data_train.csv')\n",
        "target_col = 'Type'"
      ],
      "execution_count": 1,
      "outputs": []
    },
    {
      "cell_type": "markdown",
      "metadata": {
        "id": "9walj-71SSJK"
      },
      "source": [
        "## Q1 - Fix a column of data to be numeric\n",
        "If we inspect our dataframe, `df_melb` using the `dtypes` method, we see that the column \"Date\" is an object.  However, we think this column might contain useful information so we want to convert it to [seconds since epoch](https://en.wikipedia.org/wiki/Unix_time). Use only the exiting imported libraries to create a new column \"unixtime\". Be careful, the date strings in the file might have some non-uniform formating that you have to fix first.  Print out the min and max epoch time to check your work.  Drop the original \"Date\" column. \n",
        "\n",
        "THESE ARE THE EXACT SAME INSTRUCTIONS FROM HW6! Please take this opportunity to reuse your code (if you got it right last time). "
      ]
    },
    {
      "cell_type": "code",
      "metadata": {
        "id": "eLGL0tggSSJK"
      },
      "source": [
        "# normalize date accepts the date string as shown in the df_melb 'Date' column,\n",
        "# and returns a data in a standarized format\n",
        "def standardize_date(d):\n",
        "    day, month, year = d.split('/')\n",
        "    day, month, year = day.strip(), month.strip(), year.strip()\n",
        "    if len(day) < 2: day = '0' + day\n",
        "    if len(month) < 2: month = '0' + month\n",
        "    if len(year) < 4: year = \"20\" + year\n",
        "    standard_date = day + '.' + month + '.' + year\n",
        "    return standard_date\n"
      ],
      "execution_count": 2,
      "outputs": []
    },
    {
      "cell_type": "code",
      "metadata": {
        "colab": {
          "base_uri": "https://localhost:8080/",
          "height": 224
        },
        "id": "z62II0OESSJL",
        "outputId": "7755f769-de9f-45fa-98cb-10da5da1b760"
      },
      "source": [
        "df_melb['Date'] = df_melb['Date'].apply( standardize_date )\n",
        "df_melb['unixtime'] = df_melb['Date'].apply(lambda x : int(calendar.timegm(time.strptime(x, \"%d.%m.%Y\"))))\n",
        "df_melb = df_melb.drop(columns=\"Date\")\n",
        "df_melb.head()"
      ],
      "execution_count": 3,
      "outputs": [
        {
          "output_type": "execute_result",
          "data": {
            "text/html": [
              "<div>\n",
              "<style scoped>\n",
              "    .dataframe tbody tr th:only-of-type {\n",
              "        vertical-align: middle;\n",
              "    }\n",
              "\n",
              "    .dataframe tbody tr th {\n",
              "        vertical-align: top;\n",
              "    }\n",
              "\n",
              "    .dataframe thead th {\n",
              "        text-align: right;\n",
              "    }\n",
              "</style>\n",
              "<table border=\"1\" class=\"dataframe\">\n",
              "  <thead>\n",
              "    <tr style=\"text-align: right;\">\n",
              "      <th></th>\n",
              "      <th>Rooms</th>\n",
              "      <th>Type</th>\n",
              "      <th>Price</th>\n",
              "      <th>Distance</th>\n",
              "      <th>Postcode</th>\n",
              "      <th>Bathroom</th>\n",
              "      <th>Car</th>\n",
              "      <th>Landsize</th>\n",
              "      <th>BuildingArea</th>\n",
              "      <th>YearBuilt</th>\n",
              "      <th>unixtime</th>\n",
              "    </tr>\n",
              "  </thead>\n",
              "  <tbody>\n",
              "    <tr>\n",
              "      <th>0</th>\n",
              "      <td>2</td>\n",
              "      <td>h</td>\n",
              "      <td>399000</td>\n",
              "      <td>8.7</td>\n",
              "      <td>3032</td>\n",
              "      <td>1</td>\n",
              "      <td>1.0</td>\n",
              "      <td>904</td>\n",
              "      <td>53.0</td>\n",
              "      <td>1985.0</td>\n",
              "      <td>1462579200</td>\n",
              "    </tr>\n",
              "    <tr>\n",
              "      <th>1</th>\n",
              "      <td>3</td>\n",
              "      <td>h</td>\n",
              "      <td>1241000</td>\n",
              "      <td>13.9</td>\n",
              "      <td>3165</td>\n",
              "      <td>1</td>\n",
              "      <td>1.0</td>\n",
              "      <td>643</td>\n",
              "      <td>NaN</td>\n",
              "      <td>NaN</td>\n",
              "      <td>1472342400</td>\n",
              "    </tr>\n",
              "    <tr>\n",
              "      <th>2</th>\n",
              "      <td>2</td>\n",
              "      <td>u</td>\n",
              "      <td>550000</td>\n",
              "      <td>3.0</td>\n",
              "      <td>3067</td>\n",
              "      <td>1</td>\n",
              "      <td>1.0</td>\n",
              "      <td>1521</td>\n",
              "      <td>NaN</td>\n",
              "      <td>NaN</td>\n",
              "      <td>1499472000</td>\n",
              "    </tr>\n",
              "    <tr>\n",
              "      <th>3</th>\n",
              "      <td>3</td>\n",
              "      <td>u</td>\n",
              "      <td>691000</td>\n",
              "      <td>8.4</td>\n",
              "      <td>3072</td>\n",
              "      <td>1</td>\n",
              "      <td>1.0</td>\n",
              "      <td>170</td>\n",
              "      <td>NaN</td>\n",
              "      <td>NaN</td>\n",
              "      <td>1498262400</td>\n",
              "    </tr>\n",
              "    <tr>\n",
              "      <th>4</th>\n",
              "      <td>2</td>\n",
              "      <td>u</td>\n",
              "      <td>657500</td>\n",
              "      <td>4.6</td>\n",
              "      <td>3122</td>\n",
              "      <td>1</td>\n",
              "      <td>1.0</td>\n",
              "      <td>728</td>\n",
              "      <td>73.0</td>\n",
              "      <td>1965.0</td>\n",
              "      <td>1479513600</td>\n",
              "    </tr>\n",
              "  </tbody>\n",
              "</table>\n",
              "</div>"
            ],
            "text/plain": [
              "   Rooms Type    Price  Distance  ...  Landsize  BuildingArea  YearBuilt    unixtime\n",
              "0      2    h   399000       8.7  ...       904          53.0     1985.0  1462579200\n",
              "1      3    h  1241000      13.9  ...       643           NaN        NaN  1472342400\n",
              "2      2    u   550000       3.0  ...      1521           NaN        NaN  1499472000\n",
              "3      3    u   691000       8.4  ...       170           NaN        NaN  1498262400\n",
              "4      2    u   657500       4.6  ...       728          73.0     1965.0  1479513600\n",
              "\n",
              "[5 rows x 11 columns]"
            ]
          },
          "metadata": {},
          "execution_count": 3
        }
      ]
    },
    {
      "cell_type": "markdown",
      "metadata": {
        "id": "MFuNTh2USSJL"
      },
      "source": [
        "## Q2 Calculating the prior probabilities\n",
        "Calculate the prior probabilities for each possible \"Type\" in `df_melb` and populate a dictionary, `dict_priors`, where the key is the possible \"Type\" values and the value is the prior probabilities. Show the dictionary. Do not hardcode the possible values of \"Type\".  Don't forget about [value counts](https://pandas.pydata.org/docs/reference/api/pandas.Series.value_counts.html). "
      ]
    },
    {
      "cell_type": "code",
      "metadata": {
        "colab": {
          "base_uri": "https://localhost:8080/"
        },
        "id": "VY7oG_yaSSJM",
        "outputId": "87ea4e2e-a48d-4c04-ab1d-e9030132468f"
      },
      "source": [
        "dict_priors = {}\n",
        "types = df_melb['Type'].value_counts().to_frame()\n",
        "for index, row in types.iterrows():\n",
        "  dict_priors[index] = int(row['Type']) / len(df_melb)\n",
        "\n",
        "dict_priors\n",
        "\n"
      ],
      "execution_count": 4,
      "outputs": [
        {
          "output_type": "execute_result",
          "data": {
            "text/plain": [
              "{'h': 0.452, 't': 0.13, 'u': 0.418}"
            ]
          },
          "metadata": {},
          "execution_count": 4
        }
      ]
    },
    {
      "cell_type": "markdown",
      "metadata": {
        "id": "cAu58KnHSSJM"
      },
      "source": [
        "## Q3 Create a model for the distribution of all of the numeric attributes\n",
        "For each class, and for each attribute calculate the sample mean and sample standard deviation.  You should store the model in a nested dictionary, `dict_nb_model`, such that `dict_nb_model['h']['Rooms']` is a tuple containing the mean and standard deviation for the target Type 'h' and the attribute 'Rooms'.  Show the model using the `display` function. You should ignore entries that are `NaN` in the mean and [standard deviation](https://pandas.pydata.org/docs/reference/api/pandas.Series.std.html) calculation. "
      ]
    },
    {
      "cell_type": "code",
      "metadata": {
        "id": "ObZKe2B1SSJM"
      },
      "source": [
        "df2 = df_melb.copy()\n",
        "\n",
        "df_h = df2[df2['Type'] == 'h']\n",
        "df_h = df_h.drop(columns= ['Type'], axis=1)\n",
        "\n",
        "df_u = df2[df2['Type'] == 'u']\n",
        "df_u = df_u.drop(columns= ['Type'], axis=1)\n",
        "\n",
        "df_t = df2[df2['Type'] == 't']\n",
        "df_t = df_t.drop(columns= ['Type'], axis=1)\n",
        "\n",
        "columns = df_melb.columns.values\n",
        "columns = np.delete(columns, np.where(columns == 'Type'))\n",
        "\n",
        "dfh = {}\n",
        "dfu = {}\n",
        "dft = {}\n",
        "\n",
        "dataframes = [df_h, df_t, df_u]\n",
        "dicts = [dfh, dft, dfu]\n",
        "\n",
        "for i in range(0, 3):\n",
        "  df_train = dataframes[i]\n",
        "  \n",
        "  for column in columns:\n",
        "    average = df_train[column].mean(skipna=True)\n",
        "    stdD = df_train[column].std(skipna=True)\n",
        "    mstuple = (average,stdD)\n",
        "    dicts[i][column] = mstuple\n",
        "\n",
        "\n",
        "dict_nb_model = dict()\n",
        "count = 0\n",
        "for target in dict_priors.keys():\n",
        "    dict_nb_model[target] = dicts[count]\n",
        "    count += 1"
      ],
      "execution_count": 5,
      "outputs": []
    },
    {
      "cell_type": "code",
      "metadata": {
        "colab": {
          "base_uri": "https://localhost:8080/",
          "height": 527
        },
        "id": "RKSxonYtSSJN",
        "outputId": "6e300da9-86f7-494a-a042-b2da3df95605"
      },
      "source": [
        "display(dict_nb_model) "
      ],
      "execution_count": 6,
      "outputs": [
        {
          "output_type": "display_data",
          "data": {
            "text/plain": [
              "{'h': {'Bathroom': (1.5619469026548674, 0.6720871086493075),\n",
              "  'BuildingArea': (156.24339622641511, 54.62662837301434),\n",
              "  'Car': (1.7777777777777777, 0.932759177140425),\n",
              "  'Distance': (12.086725663716809, 7.397501132737295),\n",
              "  'Landsize': (932.9646017699115, 3830.7934157687164),\n",
              "  'Postcode': (3103.8982300884954, 98.35750345419703),\n",
              "  'Price': (1189022.3451327435, 586296.5794417895),\n",
              "  'Rooms': (3.269911504424779, 0.7258264201127756),\n",
              "  'YearBuilt': (1954.900826446281, 32.461876347154686),\n",
              "  'unixtime': (1485717578.761062, 13838562.050601462)},\n",
              " 't': {'Bathroom': (1.1818181818181819, 0.42228151548662185),\n",
              "  'BuildingArea': (83.85585585585585, 45.959438015166604),\n",
              "  'Car': (1.1483253588516746, 0.47231993860296956),\n",
              "  'Distance': (8.760287081339715, 5.609778714430755),\n",
              "  'Landsize': (436.23444976076553, 1394.3403794653254),\n",
              "  'Postcode': (3120.4545454545455, 87.18475679946482),\n",
              "  'Price': (634207.1770334928, 217947.32866736987),\n",
              "  'Rooms': (2.0430622009569377, 0.5908453859944267),\n",
              "  'YearBuilt': (1976.451388888889, 24.557291330642666),\n",
              "  'unixtime': (1484176719.617225, 13494566.111289721)},\n",
              " 'u': {'Bathroom': (1.8461538461538463, 0.565430401076506),\n",
              "  'BuildingArea': (138.66666666666666, 53.498637054290135),\n",
              "  'Car': (1.6923076923076923, 0.5280588545286915),\n",
              "  'Distance': (10.766153846153845, 4.870455475462387),\n",
              "  'Landsize': (268.18461538461537, 276.57700624711265),\n",
              "  'Postcode': (3121.6153846153848, 100.01588816090862),\n",
              "  'Price': (1000169.2307692308, 421822.5363389935),\n",
              "  'Rooms': (2.9076923076923076, 0.6052653582075831),\n",
              "  'YearBuilt': (1997.0227272727273, 16.99177453038181),\n",
              "  'unixtime': (1486525292.3076923, 12640127.60987191)}}"
            ]
          },
          "metadata": {}
        }
      ]
    },
    {
      "cell_type": "markdown",
      "metadata": {
        "id": "KDOKuyYmSSJN"
      },
      "source": [
        "## Q4 Write a function that calculates the probability of a Gaussian\n",
        "Given the mean ($\\mu$), standard deviation ($\\sigma$), and a observed point, `x`, return the probability.  \n",
        "Use the formula $p(x) = \\frac{1}{\\sigma \\sqrt{2 \\pi}} e^{-\\frac{1}{2}(\\frac{x-\\mu}{\\sigma})^2}$ ([wiki](https://en.wikipedia.org/wiki/Normal_distribution)).  You should use [numpy's exp](https://numpy.org/doc/stable/reference/generated/numpy.exp.html) function in your solution. "
      ]
    },
    {
      "cell_type": "code",
      "metadata": {
        "id": "Ba3nDzOjSSJN"
      },
      "source": [
        "def get_p( mu, sigma, x):\n",
        "    first = 1 / (sigma * np.sqrt(2 * np.pi))\n",
        "    second = np.exp(-0.5 * ((x - mu) / sigma)**2)\n",
        "    return (first * second)"
      ],
      "execution_count": 7,
      "outputs": []
    },
    {
      "cell_type": "code",
      "metadata": {
        "id": "ukF3ivphSSJN",
        "colab": {
          "base_uri": "https://localhost:8080/"
        },
        "outputId": "95836e0a-2ab8-4406-ebf3-1dfd55487805"
      },
      "source": [
        "# Test it\n",
        "p = get_p( 0, 2, 0.5)\n",
        "p\n"
      ],
      "execution_count": 8,
      "outputs": [
        {
          "output_type": "execute_result",
          "data": {
            "text/plain": [
              "0.19333405840142462"
            ]
          },
          "metadata": {},
          "execution_count": 8
        }
      ]
    },
    {
      "cell_type": "markdown",
      "metadata": {
        "id": "FGNA0UDlSSJO"
      },
      "source": [
        "## Q5 Write the Naive Bayes classifier function\n",
        "The Naive Bayes classifier function, `nb_class`, should take as a parameter the prior probability dictionary. `dict_priors`, the dictionary containing all of the gaussian distribution information for each attribue, `dict_nb_model`, and a single observation row (a series generated from iterrows) of the test dataframe. It should return a single target classification. For this problem, all of our attributes are numeric and modeled as Gaussians, so we don't worry about categorical data. Make sure to skip attributes that do not have a value in the observation.  Do not hardcode the possible classification types. "
      ]
    },
    {
      "cell_type": "code",
      "metadata": {
        "id": "GBSqD8KASSJO"
      },
      "source": [
        "def nb_class( dict_priors, dict_nb_model, observation):\n",
        "    probs = {}\n",
        "    for target in dict_priors.keys():\n",
        "      probs[target] = dict_priors[target]\n",
        "      x = dict_nb_model[target]\n",
        "      for key in x.keys():\n",
        "        p = get_p(x[key][0], x[key][1], observation[key])\n",
        "        probs[target] *= p\n",
        "    max_key = max(probs, key=probs.get)\n",
        "    return (str(max_key))\n",
        "\n",
        "\n"
      ],
      "execution_count": 9,
      "outputs": []
    },
    {
      "cell_type": "markdown",
      "metadata": {
        "id": "WUmnleIeSSJO"
      },
      "source": [
        "## Q6 Calculate the accuracy using Naive Bayes classifier function on the test set\n",
        "Load the test set from file, convert date to unix time and drop the date column, classify each row using your `nb_class`, and then show the accuracy on the test set. "
      ]
    },
    {
      "cell_type": "code",
      "metadata": {
        "id": "eZq6ixy0SSJO",
        "colab": {
          "base_uri": "https://localhost:8080/",
          "height": 224
        },
        "outputId": "9af50ccc-67f5-4071-a76b-3f91a68a992c"
      },
      "source": [
        "df_test = pd.read_csv('https://gist.githubusercontent.com/yanyanzheng96/c3d53303cebbd986b166591d19254bac/raw/94eb3b2d500d5f7bbc0441a8419cd855349d5d8e/melb_data_test.csv')\n",
        "df_test['Date'] = df_test['Date'].apply( standardize_date )\n",
        "df_test['unixtime'] = df_test['Date'].apply(lambda x : int(calendar.timegm(time.strptime(x, \"%d.%m.%Y\"))))\n",
        "df_test = df_test.drop(columns=\"Date\")\n",
        "df_test.head()"
      ],
      "execution_count": 10,
      "outputs": [
        {
          "output_type": "execute_result",
          "data": {
            "text/html": [
              "<div>\n",
              "<style scoped>\n",
              "    .dataframe tbody tr th:only-of-type {\n",
              "        vertical-align: middle;\n",
              "    }\n",
              "\n",
              "    .dataframe tbody tr th {\n",
              "        vertical-align: top;\n",
              "    }\n",
              "\n",
              "    .dataframe thead th {\n",
              "        text-align: right;\n",
              "    }\n",
              "</style>\n",
              "<table border=\"1\" class=\"dataframe\">\n",
              "  <thead>\n",
              "    <tr style=\"text-align: right;\">\n",
              "      <th></th>\n",
              "      <th>Rooms</th>\n",
              "      <th>Type</th>\n",
              "      <th>Price</th>\n",
              "      <th>Distance</th>\n",
              "      <th>Postcode</th>\n",
              "      <th>Bathroom</th>\n",
              "      <th>Car</th>\n",
              "      <th>Landsize</th>\n",
              "      <th>BuildingArea</th>\n",
              "      <th>YearBuilt</th>\n",
              "      <th>unixtime</th>\n",
              "    </tr>\n",
              "  </thead>\n",
              "  <tbody>\n",
              "    <tr>\n",
              "      <th>0</th>\n",
              "      <td>3</td>\n",
              "      <td>h</td>\n",
              "      <td>1116000</td>\n",
              "      <td>17.9</td>\n",
              "      <td>3192</td>\n",
              "      <td>1</td>\n",
              "      <td>2.0</td>\n",
              "      <td>610</td>\n",
              "      <td>NaN</td>\n",
              "      <td>NaN</td>\n",
              "      <td>1498867200</td>\n",
              "    </tr>\n",
              "    <tr>\n",
              "      <th>1</th>\n",
              "      <td>3</td>\n",
              "      <td>h</td>\n",
              "      <td>2030000</td>\n",
              "      <td>11.2</td>\n",
              "      <td>3186</td>\n",
              "      <td>2</td>\n",
              "      <td>2.0</td>\n",
              "      <td>366</td>\n",
              "      <td>NaN</td>\n",
              "      <td>NaN</td>\n",
              "      <td>1472342400</td>\n",
              "    </tr>\n",
              "    <tr>\n",
              "      <th>2</th>\n",
              "      <td>3</td>\n",
              "      <td>h</td>\n",
              "      <td>1480000</td>\n",
              "      <td>10.7</td>\n",
              "      <td>3187</td>\n",
              "      <td>2</td>\n",
              "      <td>2.0</td>\n",
              "      <td>697</td>\n",
              "      <td>143.0</td>\n",
              "      <td>1925.0</td>\n",
              "      <td>1478476800</td>\n",
              "    </tr>\n",
              "    <tr>\n",
              "      <th>3</th>\n",
              "      <td>3</td>\n",
              "      <td>u</td>\n",
              "      <td>1203500</td>\n",
              "      <td>12.3</td>\n",
              "      <td>3166</td>\n",
              "      <td>2</td>\n",
              "      <td>2.0</td>\n",
              "      <td>311</td>\n",
              "      <td>127.0</td>\n",
              "      <td>2000.0</td>\n",
              "      <td>1495843200</td>\n",
              "    </tr>\n",
              "    <tr>\n",
              "      <th>4</th>\n",
              "      <td>3</td>\n",
              "      <td>h</td>\n",
              "      <td>540000</td>\n",
              "      <td>14.7</td>\n",
              "      <td>3030</td>\n",
              "      <td>2</td>\n",
              "      <td>2.0</td>\n",
              "      <td>353</td>\n",
              "      <td>135.0</td>\n",
              "      <td>2011.0</td>\n",
              "      <td>1504396800</td>\n",
              "    </tr>\n",
              "  </tbody>\n",
              "</table>\n",
              "</div>"
            ],
            "text/plain": [
              "   Rooms Type    Price  Distance  ...  Landsize  BuildingArea  YearBuilt    unixtime\n",
              "0      3    h  1116000      17.9  ...       610           NaN        NaN  1498867200\n",
              "1      3    h  2030000      11.2  ...       366           NaN        NaN  1472342400\n",
              "2      3    h  1480000      10.7  ...       697         143.0     1925.0  1478476800\n",
              "3      3    u  1203500      12.3  ...       311         127.0     2000.0  1495843200\n",
              "4      3    h   540000      14.7  ...       353         135.0     2011.0  1504396800\n",
              "\n",
              "[5 rows x 11 columns]"
            ]
          },
          "metadata": {},
          "execution_count": 10
        }
      ]
    },
    {
      "cell_type": "code",
      "metadata": {
        "id": "fLcB7USQSSJO"
      },
      "source": [
        "predictions = []\n",
        "correct = 0\n",
        "for (indx,row) in df_test.iterrows():\n",
        "    predictions.append(nb_class(dict_priors, dict_nb_model, row))\n",
        "    if row['Type'] == nb_class(dict_priors, dict_nb_model, row):\n",
        "      correct += 1\n",
        "    "
      ],
      "execution_count": 11,
      "outputs": []
    },
    {
      "cell_type": "code",
      "metadata": {
        "id": "MDbCoItOSSJP",
        "colab": {
          "base_uri": "https://localhost:8080/"
        },
        "outputId": "081d713c-76c5-4a85-8489-d80bb90a01c6"
      },
      "source": [
        "acc = correct / len(df_test)\n",
        "acc"
      ],
      "execution_count": 12,
      "outputs": [
        {
          "output_type": "execute_result",
          "data": {
            "text/plain": [
              "0.63"
            ]
          },
          "metadata": {},
          "execution_count": 12
        }
      ]
    },
    {
      "cell_type": "code",
      "metadata": {
        "id": "9Q-kpJfqSSJP",
        "colab": {
          "base_uri": "https://localhost:8080/"
        },
        "outputId": "acc2554a-7ebe-434f-e391-47ed374b18a8"
      },
      "source": [
        "print('Accuracy is {:.2f}%'.format(acc*100))"
      ],
      "execution_count": 13,
      "outputs": [
        {
          "output_type": "stream",
          "name": "stdout",
          "text": [
            "Accuracy is 63.00%\n"
          ]
        }
      ]
    },
    {
      "cell_type": "markdown",
      "metadata": {
        "id": "YLDKpohlSSJP"
      },
      "source": [
        "## Use scikit-learn to do the same thing!\n",
        "\n",
        "Now we understand the inner workings of the Naive Bayes algorithm, let's compare our results to [scikit-learn's Naive Bayes](https://scikit-learn.org/stable/modules/naive_bayes.html) implementation. Use the [GaussianNB](https://scikit-learn.org/stable/modules/naive_bayes.html#gaussian-naive-bayes) to train using the `df_melb`dataframe and test using the `df_test` dataframe. Remember to split `df_melb` into a `df_X` with the numerical attributes, and a `s_y` with the target column. On the `df_melb` frame you will have to fill the empty attributes via imputation since the scikit-learn library can not handle missing values.  Use the same method you used in the last homework (filling the training data with the mean of the non-nan values). \n",
        "\n",
        "Answer the following in a markdown cell: do you think imputation hurt or helped the classifier?"
      ]
    },
    {
      "cell_type": "code",
      "metadata": {
        "id": "J__HhecpSSJP"
      },
      "source": [
        "# Imputation training\n",
        "dict_imputation = dict()\n",
        "# your code here\n",
        "df3 = df_melb.copy()\n",
        "for column in df_train.columns:\n",
        "  if column != \"Type\":\n",
        "    df3[column].fillna(df3[column].mean(), inplace = True)\n",
        "    dict_imputation[column] = df3[column].mean()\n",
        "\n",
        "\n",
        "# Imputation - apply on the test data\n",
        "# your code here\n",
        "for column in df_test.columns:\n",
        "  if column != \"Type\":\n",
        "    df_test[column].fillna(dict_imputation[column], inplace = True)\n",
        "\n",
        "\n",
        "# Seperate the attributes from the target_col\n",
        "# your code here\n",
        "s_y, df_X = df3['Type'], df3.drop(columns = 'Type')\n",
        "df_test2 = df_test.copy()\n",
        "df_test = df_test.drop(columns = 'Type')\n"
      ],
      "execution_count": 14,
      "outputs": []
    },
    {
      "cell_type": "code",
      "metadata": {
        "id": "EqB2YMJzSSJP",
        "colab": {
          "base_uri": "https://localhost:8080/"
        },
        "outputId": "f97f5083-dd46-4af9-f782-984c24bced74"
      },
      "source": [
        "gnb = GaussianNB()\n",
        "# your code here\n",
        "prediction2 = gnb.fit(df_X, s_y).predict(df_test)\n",
        "prediction2"
      ],
      "execution_count": 15,
      "outputs": [
        {
          "output_type": "execute_result",
          "data": {
            "text/plain": [
              "array(['t', 'h', 't', 't', 'u', 'u', 't', 'u', 't', 'u', 'u', 't', 'u',\n",
              "       'u', 'u', 't', 'h', 'h', 't', 'u', 't', 't', 'u', 'h', 't', 't',\n",
              "       'u', 'h', 'h', 't', 't', 't', 't', 'u', 'h', 'u', 'u', 'h', 't',\n",
              "       't', 't', 'u', 'u', 'u', 'h', 'h', 'u', 'u', 't', 'u', 't', 't',\n",
              "       't', 'u', 'u', 'u', 't', 't', 'u', 'u', 't', 'u', 'u', 'u', 't',\n",
              "       'h', 't', 'u', 'u', 'u', 'u', 't', 'u', 't', 'u', 't', 'u', 'u',\n",
              "       'u', 't', 'u', 'h', 'u', 'u', 'u', 'u', 't', 't', 'u', 'u', 'u',\n",
              "       'u', 'u', 'h', 'u', 'u', 'u', 't', 'h', 'u'], dtype='<U1')"
            ]
          },
          "metadata": {},
          "execution_count": 15
        }
      ]
    },
    {
      "cell_type": "code",
      "metadata": {
        "id": "RaRRyyBVSSJP",
        "colab": {
          "base_uri": "https://localhost:8080/"
        },
        "outputId": "de79ff41-2aa3-4866-810f-ed6834316b52"
      },
      "source": [
        "actual = df_test2['Type'].tolist()\n",
        "correct = 0\n",
        "for i in range(0,100):\n",
        "\n",
        "  if actual[i] == prediction2[i]:\n",
        "    correct += 1\n",
        "acc = correct / len(df_test2)\n",
        "\n",
        "# acc = # your code here\n",
        "print('Accuracy is {:.2f}%'.format(acc*100))"
      ],
      "execution_count": 16,
      "outputs": [
        {
          "output_type": "stream",
          "name": "stdout",
          "text": [
            "Accuracy is 37.00%\n"
          ]
        }
      ]
    },
    {
      "cell_type": "markdown",
      "metadata": {
        "id": "YKRwQ_ieSSJQ"
      },
      "source": [
        "## ANSWER TO \"do you think imputation hurt or helped the classifier?\" "
      ]
    },
    {
      "cell_type": "markdown",
      "metadata": {
        "id": "6wT-YLcyJ4Qj"
      },
      "source": [
        "we think imputation hurt the classifier since the accuracy dropped. "
      ]
    }
  ]
}