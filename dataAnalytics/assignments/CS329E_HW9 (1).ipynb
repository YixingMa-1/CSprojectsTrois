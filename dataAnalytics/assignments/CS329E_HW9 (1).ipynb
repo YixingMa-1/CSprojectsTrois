{
  "nbformat": 4,
  "nbformat_minor": 0,
  "metadata": {
    "kernelspec": {
      "display_name": "Python 3 (ipykernel)",
      "language": "python",
      "name": "python3"
    },
    "language_info": {
      "codemirror_mode": {
        "name": "ipython",
        "version": 3
      },
      "file_extension": ".py",
      "mimetype": "text/x-python",
      "name": "python",
      "nbconvert_exporter": "python",
      "pygments_lexer": "ipython3",
      "version": "3.9.7"
    },
    "colab": {
      "name": "CS329E_HW9.ipynb",
      "provenance": []
    }
  },
  "cells": [
    {
      "cell_type": "markdown",
      "metadata": {
        "id": "el5dZa_1md3N"
      },
      "source": [
        "## C S 329E HW 9\n",
        "\n",
        "# Clustering with K-means \n",
        "\n",
        "## Yixing Ma, Daniel Lam, group 29\n",
        "\n",
        "For this week's homework we are going explore our first clustering method:\n",
        "\n",
        "  - K-Means\n",
        "  \n",
        "As we discussed in lecture, k-means creates clusters based on a distance measure.  Using a small example data set, we will implement the algorithm and visualize the results.\n",
        "\n",
        "Even though the example data is small and 2 dimensional, write your helper functions to not assume a 2-D data set.  Your plotting code can reference the `x` and `y` column names from the sample data directly. \n",
        "\n",
        "Note that I have added a one or two lines of code to the questions to test your implementation. "
      ]
    },
    {
      "cell_type": "code",
      "metadata": {
        "id": "NBABubEfmd3Q"
      },
      "source": [
        "# Do not import anything else\n",
        "import pandas as pd\n",
        "import matplotlib.pyplot as plt\n",
        "import numpy as np\n"
      ],
      "execution_count": 1,
      "outputs": []
    },
    {
      "cell_type": "markdown",
      "metadata": {
        "id": "lWVWSkfWmd3Q"
      },
      "source": [
        "# K-Means\n",
        "\n",
        "We will implement the Algorithm 7.1 \"Basic K-means\", and apply that algorithm to a small data set provided with the assignment in the `data_kmeans.csv` file. We will build up some helper functions along the way, test them, and put it all together to apply to our small example data set. "
      ]
    },
    {
      "cell_type": "code",
      "metadata": {
        "colab": {
          "base_uri": "https://localhost:8080/",
          "height": 204
        },
        "id": "PJrt6Ch_md3R",
        "outputId": "5f3720cc-e172-42b5-a935-b100b3ee61a8"
      },
      "source": [
        "# loading in our toy data\n",
        "df_kmeans = pd.read_csv(\"https://gist.githubusercontent.com/TieJean/ff4dbd0022ab5e292db73d8b4910f551/raw/624db21e20faa92b79e5289ce4d9002e863b0d68/data_kmeans.csv\")\n",
        "df_kmeans.head()"
      ],
      "execution_count": 2,
      "outputs": [
        {
          "output_type": "execute_result",
          "data": {
            "text/html": [
              "<div>\n",
              "<style scoped>\n",
              "    .dataframe tbody tr th:only-of-type {\n",
              "        vertical-align: middle;\n",
              "    }\n",
              "\n",
              "    .dataframe tbody tr th {\n",
              "        vertical-align: top;\n",
              "    }\n",
              "\n",
              "    .dataframe thead th {\n",
              "        text-align: right;\n",
              "    }\n",
              "</style>\n",
              "<table border=\"1\" class=\"dataframe\">\n",
              "  <thead>\n",
              "    <tr style=\"text-align: right;\">\n",
              "      <th></th>\n",
              "      <th>x</th>\n",
              "      <th>y</th>\n",
              "    </tr>\n",
              "  </thead>\n",
              "  <tbody>\n",
              "    <tr>\n",
              "      <th>0</th>\n",
              "      <td>-0.731698</td>\n",
              "      <td>-0.874311</td>\n",
              "    </tr>\n",
              "    <tr>\n",
              "      <th>1</th>\n",
              "      <td>-0.547702</td>\n",
              "      <td>-0.580320</td>\n",
              "    </tr>\n",
              "    <tr>\n",
              "      <th>2</th>\n",
              "      <td>-0.762840</td>\n",
              "      <td>-0.885572</td>\n",
              "    </tr>\n",
              "    <tr>\n",
              "      <th>3</th>\n",
              "      <td>-0.340946</td>\n",
              "      <td>-0.810411</td>\n",
              "    </tr>\n",
              "    <tr>\n",
              "      <th>4</th>\n",
              "      <td>-0.749065</td>\n",
              "      <td>-0.399218</td>\n",
              "    </tr>\n",
              "  </tbody>\n",
              "</table>\n",
              "</div>"
            ],
            "text/plain": [
              "          x         y\n",
              "0 -0.731698 -0.874311\n",
              "1 -0.547702 -0.580320\n",
              "2 -0.762840 -0.885572\n",
              "3 -0.340946 -0.810411\n",
              "4 -0.749065 -0.399218"
            ]
          },
          "metadata": {},
          "execution_count": 2
        }
      ]
    },
    {
      "cell_type": "markdown",
      "metadata": {
        "id": "vS0e9EpXmd3R"
      },
      "source": [
        "## Q1 - Write a function that returns `k` random rows from a data frame\n",
        "\n",
        "To initialize the centroids, we pick `k` random points from a data frame.  Write a function `init_centroids( df_data, k )` that accepts two parameters: a data frame `df_data`, and an integer `k`, and returns the initial centroids for our k-means algorithm.  Note, we want the indices of the returned data frame to range from 0 - (k-1) so that we can use these as the centroid labels.  Use [pandas sample](https://pandas.pydata.org/pandas-docs/stable/reference/api/pandas.DataFrame.sample.html) method, and pass it the value of $42$ for `random_state`. "
      ]
    },
    {
      "cell_type": "code",
      "metadata": {
        "id": "C6YIA1Iqmd3R"
      },
      "source": [
        "def init_centroids( df_data, k ):\n",
        "    # your code here\n",
        "    centroids = df_data.sample(n = k, random_state = 42).reset_index().drop(columns = ['index'])\n",
        "    \n",
        "    return centroids"
      ],
      "execution_count": 3,
      "outputs": []
    },
    {
      "cell_type": "code",
      "metadata": {
        "colab": {
          "base_uri": "https://localhost:8080/",
          "height": 266
        },
        "id": "5zgXOVCNmd3R",
        "outputId": "73d6d87d-0c80-4f9d-e87d-968e61a72fd2"
      },
      "source": [
        "# Testing our init centroid function\n",
        "df_centroids = init_centroids( df_kmeans, 7 )\n",
        "df_centroids"
      ],
      "execution_count": 4,
      "outputs": [
        {
          "output_type": "execute_result",
          "data": {
            "text/html": [
              "<div>\n",
              "<style scoped>\n",
              "    .dataframe tbody tr th:only-of-type {\n",
              "        vertical-align: middle;\n",
              "    }\n",
              "\n",
              "    .dataframe tbody tr th {\n",
              "        vertical-align: top;\n",
              "    }\n",
              "\n",
              "    .dataframe thead th {\n",
              "        text-align: right;\n",
              "    }\n",
              "</style>\n",
              "<table border=\"1\" class=\"dataframe\">\n",
              "  <thead>\n",
              "    <tr style=\"text-align: right;\">\n",
              "      <th></th>\n",
              "      <th>x</th>\n",
              "      <th>y</th>\n",
              "    </tr>\n",
              "  </thead>\n",
              "  <tbody>\n",
              "    <tr>\n",
              "      <th>0</th>\n",
              "      <td>-0.633437</td>\n",
              "      <td>0.488756</td>\n",
              "    </tr>\n",
              "    <tr>\n",
              "      <th>1</th>\n",
              "      <td>-0.597736</td>\n",
              "      <td>0.632194</td>\n",
              "    </tr>\n",
              "    <tr>\n",
              "      <th>2</th>\n",
              "      <td>-0.635867</td>\n",
              "      <td>0.166613</td>\n",
              "    </tr>\n",
              "    <tr>\n",
              "      <th>3</th>\n",
              "      <td>-0.539351</td>\n",
              "      <td>-0.875532</td>\n",
              "    </tr>\n",
              "    <tr>\n",
              "      <th>4</th>\n",
              "      <td>-0.588597</td>\n",
              "      <td>0.293062</td>\n",
              "    </tr>\n",
              "    <tr>\n",
              "      <th>5</th>\n",
              "      <td>-0.127985</td>\n",
              "      <td>-0.136639</td>\n",
              "    </tr>\n",
              "    <tr>\n",
              "      <th>6</th>\n",
              "      <td>0.342579</td>\n",
              "      <td>0.211717</td>\n",
              "    </tr>\n",
              "  </tbody>\n",
              "</table>\n",
              "</div>"
            ],
            "text/plain": [
              "          x         y\n",
              "0 -0.633437  0.488756\n",
              "1 -0.597736  0.632194\n",
              "2 -0.635867  0.166613\n",
              "3 -0.539351 -0.875532\n",
              "4 -0.588597  0.293062\n",
              "5 -0.127985 -0.136639\n",
              "6  0.342579  0.211717"
            ]
          },
          "metadata": {},
          "execution_count": 4
        }
      ]
    },
    {
      "cell_type": "markdown",
      "metadata": {
        "id": "yzOQ0eUwmd3S"
      },
      "source": [
        "## Q2 - Write a function to assign every row in a data frame to a centroid \n",
        "\n",
        "Write a function, `assign_to_centroid`, that accepts two parameters: a data frame, `df_data`, that represents our data to be clustered, and the data frame, `df_centroids`, which is of length `k` and contains the current centroids for our clusters.  The functions returns a series of the same length of `df_data` that contains the index of the closest centroid in `df_centroid`.  Use Euclidean distance as your distance measure. \n",
        "\n",
        "For example, if a row of data contained the data point $(100,123)$ and the three centroids were in a data frame that had the following information:\n",
        "\n",
        "  - Index 0 : (34,34)\n",
        "  - Index 1 : (0,1)\n",
        "  - Index 2 : (83,99)\n",
        "\n",
        "The `assign_to_centroid` function would assign the index $2$ to that row of data. "
      ]
    },
    {
      "cell_type": "code",
      "metadata": {
        "id": "PWUfNcwmmd3T"
      },
      "source": [
        "def assign_to_centroid( df_data, df_centroids ):\n",
        "    # your code here\n",
        "    clusters = pd.Series(dtype = float)\n",
        "    for i in range(len(df_data)):\n",
        "            data_point = np.array((df_data.loc[i,'x'], df_data.loc[i,'y']))\n",
        "            \n",
        "            dist_list = []\n",
        "            for ind in df_centroids.index:\n",
        "                cent_point = np.array((df_centroids['x'][ind],df_centroids['y'][ind]))\n",
        "                dist =np.linalg.norm(cent_point - data_point)\n",
        "                \n",
        "                dist_list.append(dist)\n",
        "            \n",
        "            cluster_num = dist_list.index(min(dist_list))\n",
        "            clusters = clusters.append(pd.Series([cluster_num]))\n",
        "              \n",
        "    return clusters"
      ],
      "execution_count": 5,
      "outputs": []
    },
    {
      "cell_type": "code",
      "metadata": {
        "colab": {
          "base_uri": "https://localhost:8080/"
        },
        "id": "BKjekefImd3T",
        "outputId": "aa063df9-16c8-4277-9bb8-674867ad1248"
      },
      "source": [
        "# Check how many data points were assigned to each centroid\n",
        "s_centroid_assignment = assign_to_centroid( df_kmeans, df_centroids )\n",
        "s_centroid_assignment.value_counts()"
      ],
      "execution_count": 6,
      "outputs": [
        {
          "output_type": "execute_result",
          "data": {
            "text/plain": [
              "6    126\n",
              "1     94\n",
              "3     71\n",
              "5     58\n",
              "0     53\n",
              "2     26\n",
              "4     22\n",
              "dtype: int64"
            ]
          },
          "metadata": {},
          "execution_count": 6
        }
      ]
    },
    {
      "cell_type": "markdown",
      "metadata": {
        "id": "_Z_b1rGEmd3T"
      },
      "source": [
        "## Q3 - Write a function that recomputes the centroids\n",
        "\n",
        "Write a function `compute_centroids` that takes two parameters: the data frame, `df_data` containing the data being clustered, and a series of the same length that contains the label of the assigned centroid for every row in df_data, `s_centroid_assignment`. The function will return the a data frame containing the centroids (mean) value for each unique centroid. \n",
        "\n",
        "Note that the indices in the returned data frame should correspond to the unique values in `s_centroid_assignment`.  For example, if I found the mean value of df_data using the slice corresponding to `s_centroid_assigment == 2`, then the centroid should be in the returned data frame at `.iloc[2]`. \n"
      ]
    },
    {
      "cell_type": "code",
      "metadata": {
        "id": "WJ1cCnYcmd3U"
      },
      "source": [
        "def compute_centroids( df_data, s_centroid_assignment ):\n",
        "    # your code here \n",
        "    centroids_df = pd.DataFrame(columns = ['x', 'y'])\n",
        "    x =  s_centroid_assignment.reset_index()[0]\n",
        "    \n",
        "    for i in range(max(s_centroid_assignment)+1):\n",
        "        cluster = df_data[x == i]\n",
        "        new_centroid = {'x':cluster['x'].mean(),'y':cluster['y'].mean()}\n",
        "        \n",
        "        centroids_df = centroids_df.append(new_centroid,ignore_index=True)\n",
        "        \n",
        "    return centroids_df  "
      ],
      "execution_count": 7,
      "outputs": []
    },
    {
      "cell_type": "code",
      "metadata": {
        "colab": {
          "base_uri": "https://localhost:8080/",
          "height": 266
        },
        "id": "ocHCvLFRmd3U",
        "outputId": "a85551a5-035c-42d5-d044-e38ee4630498"
      },
      "source": [
        "# Test it out\n",
        "df_new_centroids = compute_centroids( df_kmeans, s_centroid_assignment)\n",
        "df_new_centroids"
      ],
      "execution_count": 8,
      "outputs": [
        {
          "output_type": "execute_result",
          "data": {
            "text/html": [
              "<div>\n",
              "<style scoped>\n",
              "    .dataframe tbody tr th:only-of-type {\n",
              "        vertical-align: middle;\n",
              "    }\n",
              "\n",
              "    .dataframe tbody tr th {\n",
              "        vertical-align: top;\n",
              "    }\n",
              "\n",
              "    .dataframe thead th {\n",
              "        text-align: right;\n",
              "    }\n",
              "</style>\n",
              "<table border=\"1\" class=\"dataframe\">\n",
              "  <thead>\n",
              "    <tr style=\"text-align: right;\">\n",
              "      <th></th>\n",
              "      <th>x</th>\n",
              "      <th>y</th>\n",
              "    </tr>\n",
              "  </thead>\n",
              "  <tbody>\n",
              "    <tr>\n",
              "      <th>0</th>\n",
              "      <td>-0.715983</td>\n",
              "      <td>0.500552</td>\n",
              "    </tr>\n",
              "    <tr>\n",
              "      <th>1</th>\n",
              "      <td>-0.721574</td>\n",
              "      <td>0.708343</td>\n",
              "    </tr>\n",
              "    <tr>\n",
              "      <th>2</th>\n",
              "      <td>-0.738268</td>\n",
              "      <td>-0.113830</td>\n",
              "    </tr>\n",
              "    <tr>\n",
              "      <th>3</th>\n",
              "      <td>-0.696694</td>\n",
              "      <td>-0.699028</td>\n",
              "    </tr>\n",
              "    <tr>\n",
              "      <th>4</th>\n",
              "      <td>-0.546913</td>\n",
              "      <td>0.321364</td>\n",
              "    </tr>\n",
              "    <tr>\n",
              "      <th>5</th>\n",
              "      <td>-0.102365</td>\n",
              "      <td>-0.188876</td>\n",
              "    </tr>\n",
              "    <tr>\n",
              "      <th>6</th>\n",
              "      <td>0.523364</td>\n",
              "      <td>0.238569</td>\n",
              "    </tr>\n",
              "  </tbody>\n",
              "</table>\n",
              "</div>"
            ],
            "text/plain": [
              "          x         y\n",
              "0 -0.715983  0.500552\n",
              "1 -0.721574  0.708343\n",
              "2 -0.738268 -0.113830\n",
              "3 -0.696694 -0.699028\n",
              "4 -0.546913  0.321364\n",
              "5 -0.102365 -0.188876\n",
              "6  0.523364  0.238569"
            ]
          },
          "metadata": {},
          "execution_count": 8
        }
      ]
    },
    {
      "cell_type": "markdown",
      "metadata": {
        "id": "YjkzN_Pimd3U"
      },
      "source": [
        "## Q4 - Write a function that compares two centroid data frames\n",
        "\n",
        "The stopping criterion for k-means is when our centroids have not moved since the last iteration.  Write a function `compare_centroids` that is given 2 centroid data frames, `df_centroid_a`, and `df_centroid_b` as parameters and returns `True` or `False` indicating if the centroids at each unique index in the data frame are equal. Use the [equals](https://pandas.pydata.org/pandas-docs/stable/reference/api/pandas.Series.equals.html) method to compare equality of pandas Series objects. "
      ]
    },
    {
      "cell_type": "code",
      "metadata": {
        "id": "BdCZen1ymd3U"
      },
      "source": [
        "def compare_centroids( df_centroid_a, df_centroid_b ):\n",
        "    # your code here\n",
        "    return df_centroid_a.equals(df_centroid_b)"
      ],
      "execution_count": 9,
      "outputs": []
    },
    {
      "cell_type": "code",
      "metadata": {
        "colab": {
          "base_uri": "https://localhost:8080/"
        },
        "id": "d38om7C_md3U",
        "outputId": "e4b17a32-78db-4a3a-a06e-24a1d0bec789"
      },
      "source": [
        "# Test it out, should print True followed by False\n",
        "print(compare_centroids( df_new_centroids, df_new_centroids ))\n",
        "print(compare_centroids( df_new_centroids, df_centroids ))"
      ],
      "execution_count": 10,
      "outputs": [
        {
          "output_type": "stream",
          "name": "stdout",
          "text": [
            "True\n",
            "False\n"
          ]
        }
      ]
    },
    {
      "cell_type": "markdown",
      "metadata": {
        "id": "uA-Svnxymd3U"
      },
      "source": [
        "## Q5 - Write a function that implements k-means\n",
        "\n",
        "Write a function, `k_means`, that takes in as parameters 2 values, a data frame with values to cluster, `df_data`, and the number of clusters to form, `k`.  The function should return a series of data of the same length as `df_data` that contains the cluster assignment (an integer from 0 to (k-1)) for each row of data.  Use the helper functions defined in the prior questions. "
      ]
    },
    {
      "cell_type": "code",
      "metadata": {
        "id": "mym0mDiomd3V"
      },
      "source": [
        "def k_means( df_data, k ):\n",
        "    # your code here\n",
        "    df_centroids = init_centroids(df_data, k )\n",
        "    old_clusters = pd.Series(dtype = float)\n",
        "    new_clusters = assign_to_centroid( df_data, df_centroids )\n",
        "    \n",
        "    while compare_centroids(old_clusters,new_clusters)== 0:\n",
        "        new_centroids = compute_centroids(df_data, new_clusters)\n",
        "        old_clusters = new_clusters\n",
        "        new_clusters = assign_to_centroid(df_data, new_centroids)\n",
        "    \n",
        "    return new_clusters\n"
      ],
      "execution_count": 11,
      "outputs": []
    },
    {
      "cell_type": "code",
      "metadata": {
        "colab": {
          "base_uri": "https://localhost:8080/"
        },
        "id": "UiK_zbxUmd3V",
        "outputId": "3cbb9eb8-7a62-4e20-aa3b-759208b45f80"
      },
      "source": [
        "# Call k_means with k = 5 to test\n",
        "s_cluster_assignment = k_means( df_kmeans, 5)\n",
        "s_cluster_assignment.value_counts()"
      ],
      "execution_count": 12,
      "outputs": [
        {
          "output_type": "execute_result",
          "data": {
            "text/plain": [
              "0    178\n",
              "3     89\n",
              "2     74\n",
              "4     63\n",
              "1     46\n",
              "dtype: int64"
            ]
          },
          "metadata": {},
          "execution_count": 12
        }
      ]
    },
    {
      "cell_type": "markdown",
      "metadata": {
        "id": "ZjInnZSumd3V"
      },
      "source": [
        "## Q6 - Plot the results\n",
        "\n",
        "Plot the points in the `df_kmeans` data frame using a 2-D scatter plot, with a different color for each cluster.  Use the cluster assignments from the previous problem (`s_cluster_assignments`).  Label your axes, and give the plot a title. "
      ]
    },
    {
      "cell_type": "code",
      "metadata": {
        "colab": {
          "base_uri": "https://localhost:8080/",
          "height": 295
        },
        "id": "PU_aVV-lmd3V",
        "outputId": "7afe03ce-1180-4bf9-f690-375f65053537"
      },
      "source": [
        "# Plot each cluster\n",
        "# your code here\n",
        "x = df_kmeans['x']\n",
        "y = df_kmeans['y']\n",
        "Cluster = s_cluster_assignment  \n",
        "centers = compute_centroids(df_kmeans, s_cluster_assignment)\n",
        "centers = zip(centers['x'],centers['y'])\n",
        "\n",
        "fig = plt.figure()\n",
        "ax = fig.add_subplot(111)\n",
        "scatter = ax.scatter(x,y,c=Cluster,s=50)\n",
        "for i,j in centers:\n",
        "    ax.scatter(i,j,s=50,c='red',marker='+')\n",
        "ax.set_xlabel('x')\n",
        "ax.set_ylabel('y')\n",
        "plt.colorbar(scatter)\n",
        "\n",
        "plt.title('K-means Clustering with k=5')\n",
        "fig.show()  "
      ],
      "execution_count": 13,
      "outputs": [
        {
          "output_type": "display_data",
          "data": {
            "image/png": "[encoded data removed]",
            "text/plain": [
              "<Figure size 432x288 with 2 Axes>"
            ]
          },
          "metadata": {
            "needs_background": "light"
          }
        }
      ]
    }
  ]
}